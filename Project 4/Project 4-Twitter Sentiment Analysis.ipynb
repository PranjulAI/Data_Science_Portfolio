{
 "cells": [
  {
   "cell_type": "markdown",
   "metadata": {},
   "source": [
    "**Project 4 Twitter Sentiment Analyzer**"
   ]
  },
  {
   "cell_type": "code",
   "execution_count": 1,
   "metadata": {},
   "outputs": [],
   "source": [
    "import numpy as np\n",
    "import pandas as pd\n",
    "import tweepy\n",
    "import json\n",
    "from tweepy import OAuthHandler"
   ]
  },
  {
   "cell_type": "code",
   "execution_count": 2,
   "metadata": {},
   "outputs": [],
   "source": [
    "user_key=\"TB6qU2o9zvpDDvd84ZPTK1EUx\"\n",
    "user_secret_key=\"iQznr1twjlRYaveLsZ5rvCAoDzTL6RIoNG300pQYUkppslwxXA\"\n",
    "access_token=\"1321749875428478976-5kGwhrC0ghEu8AI4HsIR0ArJOMhDTZ\"\n",
    "access_token_secret=\"0EcGEC4d8g0m3RLeGTf334JgTJyEVBloT2JrmFNxiMox8\""
   ]
  },
  {
   "cell_type": "code",
   "execution_count": 3,
   "metadata": {},
   "outputs": [],
   "source": [
    "auth=tweepy.OAuthHandler(user_key,user_secret_key)\n",
    "auth.set_access_token(access_token,access_token_secret)\n",
    "api=tweepy.API(auth)"
   ]
  },
  {
   "cell_type": "code",
   "execution_count": 4,
   "metadata": {},
   "outputs": [],
   "source": [
    "query=\"Trump will win US Elections\""
   ]
  },
  {
   "cell_type": "code",
   "execution_count": 5,
   "metadata": {},
   "outputs": [
    {
     "name": "stdout",
     "output_type": "stream",
     "text": [
      "Status(_api=<tweepy.api.API object at 0x000000A05246BB88>, _json={'created_at': 'Thu Oct 29 13:21:47 +0000 2020', 'id': 1321804425707610112, 'id_str': '1321804425707610112', 'full_text': '@awakenedpaige_ Trump will win the Nov 2020 Presidential Elections-Looks like the US elections  will be interfered into by people with vested interest it comes from the north east of this country( and looks like the usual meddler- Russia) the incumbent ( Trump) will be back in power. He Will', 'truncated': False, 'display_text_range': [16, 292], 'entities': {'hashtags': [], 'symbols': [], 'user_mentions': [{'screen_name': 'awakenedpaige_', 'name': 'High Priestess Paige ☥', 'id': 941028378680930305, 'id_str': '941028378680930305', 'indices': [0, 15]}], 'urls': []}, 'metadata': {'iso_language_code': 'en', 'result_type': 'recent'}, 'source': '<a href=\"http://twitter.com/download/iphone\" rel=\"nofollow\">Twitter for iPhone</a>', 'in_reply_to_status_id': 1321797977975988225, 'in_reply_to_status_id_str': '1321797977975988225', 'in_reply_to_user_id': 941028378680930305, 'in_reply_to_user_id_str': '941028378680930305', 'in_reply_to_screen_name': 'awakenedpaige_', 'user': {'id': 257773248, 'id_str': '257773248', 'name': 'Aparna', 'screen_name': 'Garfieldthegr8', 'location': '', 'description': 'Tarot Practitioner, Akashic Record enthusiast, Singing Bowl Practitioner, Chartered Accountant. Navigating Life.tweets are personal opinion/views.', 'url': None, 'entities': {'description': {'urls': []}}, 'protected': False, 'followers_count': 75, 'friends_count': 814, 'listed_count': 7, 'created_at': 'Sat Feb 26 04:03:22 +0000 2011', 'favourites_count': 833, 'utc_offset': None, 'time_zone': None, 'geo_enabled': True, 'verified': False, 'statuses_count': 2811, 'lang': None, 'contributors_enabled': False, 'is_translator': False, 'is_translation_enabled': False, 'profile_background_color': 'FF6699', 'profile_background_image_url': 'http://abs.twimg.com/images/themes/theme11/bg.gif', 'profile_background_image_url_https': 'https://abs.twimg.com/images/themes/theme11/bg.gif', 'profile_background_tile': True, 'profile_image_url': 'http://pbs.twimg.com/profile_images/1256885913176739841/EN4cbD8q_normal.jpg', 'profile_image_url_https': 'https://pbs.twimg.com/profile_images/1256885913176739841/EN4cbD8q_normal.jpg', 'profile_link_color': 'B40B43', 'profile_sidebar_border_color': 'CC3366', 'profile_sidebar_fill_color': 'E5507E', 'profile_text_color': '362720', 'profile_use_background_image': True, 'has_extended_profile': False, 'default_profile': False, 'default_profile_image': False, 'following': False, 'follow_request_sent': False, 'notifications': False, 'translator_type': 'none'}, 'geo': None, 'coordinates': None, 'place': None, 'contributors': None, 'is_quote_status': False, 'retweet_count': 0, 'favorite_count': 0, 'favorited': False, 'retweeted': False, 'lang': 'en'}, created_at=datetime.datetime(2020, 10, 29, 13, 21, 47), id=1321804425707610112, id_str='1321804425707610112', full_text='@awakenedpaige_ Trump will win the Nov 2020 Presidential Elections-Looks like the US elections  will be interfered into by people with vested interest it comes from the north east of this country( and looks like the usual meddler- Russia) the incumbent ( Trump) will be back in power. He Will', truncated=False, display_text_range=[16, 292], entities={'hashtags': [], 'symbols': [], 'user_mentions': [{'screen_name': 'awakenedpaige_', 'name': 'High Priestess Paige ☥', 'id': 941028378680930305, 'id_str': '941028378680930305', 'indices': [0, 15]}], 'urls': []}, metadata={'iso_language_code': 'en', 'result_type': 'recent'}, source='Twitter for iPhone', source_url='http://twitter.com/download/iphone', in_reply_to_status_id=1321797977975988225, in_reply_to_status_id_str='1321797977975988225', in_reply_to_user_id=941028378680930305, in_reply_to_user_id_str='941028378680930305', in_reply_to_screen_name='awakenedpaige_', author=User(_api=<tweepy.api.API object at 0x000000A05246BB88>, _json={'id': 257773248, 'id_str': '257773248', 'name': 'Aparna', 'screen_name': 'Garfieldthegr8', 'location': '', 'description': 'Tarot Practitioner, Akashic Record enthusiast, Singing Bowl Practitioner, Chartered Accountant. Navigating Life.tweets are personal opinion/views.', 'url': None, 'entities': {'description': {'urls': []}}, 'protected': False, 'followers_count': 75, 'friends_count': 814, 'listed_count': 7, 'created_at': 'Sat Feb 26 04:03:22 +0000 2011', 'favourites_count': 833, 'utc_offset': None, 'time_zone': None, 'geo_enabled': True, 'verified': False, 'statuses_count': 2811, 'lang': None, 'contributors_enabled': False, 'is_translator': False, 'is_translation_enabled': False, 'profile_background_color': 'FF6699', 'profile_background_image_url': 'http://abs.twimg.com/images/themes/theme11/bg.gif', 'profile_background_image_url_https': 'https://abs.twimg.com/images/themes/theme11/bg.gif', 'profile_background_tile': True, 'profile_image_url': 'http://pbs.twimg.com/profile_images/1256885913176739841/EN4cbD8q_normal.jpg', 'profile_image_url_https': 'https://pbs.twimg.com/profile_images/1256885913176739841/EN4cbD8q_normal.jpg', 'profile_link_color': 'B40B43', 'profile_sidebar_border_color': 'CC3366', 'profile_sidebar_fill_color': 'E5507E', 'profile_text_color': '362720', 'profile_use_background_image': True, 'has_extended_profile': False, 'default_profile': False, 'default_profile_image': False, 'following': False, 'follow_request_sent': False, 'notifications': False, 'translator_type': 'none'}, id=257773248, id_str='257773248', name='Aparna', screen_name='Garfieldthegr8', location='', description='Tarot Practitioner, Akashic Record enthusiast, Singing Bowl Practitioner, Chartered Accountant. Navigating Life.tweets are personal opinion/views.', url=None, entities={'description': {'urls': []}}, protected=False, followers_count=75, friends_count=814, listed_count=7, created_at=datetime.datetime(2011, 2, 26, 4, 3, 22), favourites_count=833, utc_offset=None, time_zone=None, geo_enabled=True, verified=False, statuses_count=2811, lang=None, contributors_enabled=False, is_translator=False, is_translation_enabled=False, profile_background_color='FF6699', profile_background_image_url='http://abs.twimg.com/images/themes/theme11/bg.gif', profile_background_image_url_https='https://abs.twimg.com/images/themes/theme11/bg.gif', profile_background_tile=True, profile_image_url='http://pbs.twimg.com/profile_images/1256885913176739841/EN4cbD8q_normal.jpg', profile_image_url_https='https://pbs.twimg.com/profile_images/1256885913176739841/EN4cbD8q_normal.jpg', profile_link_color='B40B43', profile_sidebar_border_color='CC3366', profile_sidebar_fill_color='E5507E', profile_text_color='362720', profile_use_background_image=True, has_extended_profile=False, default_profile=False, default_profile_image=False, following=False, follow_request_sent=False, notifications=False, translator_type='none'), user=User(_api=<tweepy.api.API object at 0x000000A05246BB88>, _json={'id': 257773248, 'id_str': '257773248', 'name': 'Aparna', 'screen_name': 'Garfieldthegr8', 'location': '', 'description': 'Tarot Practitioner, Akashic Record enthusiast, Singing Bowl Practitioner, Chartered Accountant. Navigating Life.tweets are personal opinion/views.', 'url': None, 'entities': {'description': {'urls': []}}, 'protected': False, 'followers_count': 75, 'friends_count': 814, 'listed_count': 7, 'created_at': 'Sat Feb 26 04:03:22 +0000 2011', 'favourites_count': 833, 'utc_offset': None, 'time_zone': None, 'geo_enabled': True, 'verified': False, 'statuses_count': 2811, 'lang': None, 'contributors_enabled': False, 'is_translator': False, 'is_translation_enabled': False, 'profile_background_color': 'FF6699', 'profile_background_image_url': 'http://abs.twimg.com/images/themes/theme11/bg.gif', 'profile_background_image_url_https': 'https://abs.twimg.com/images/themes/theme11/bg.gif', 'profile_background_tile': True, 'profile_image_url': 'http://pbs.twimg.com/profile_images/1256885913176739841/EN4cbD8q_normal.jpg', 'profile_image_url_https': 'https://pbs.twimg.com/profile_images/1256885913176739841/EN4cbD8q_normal.jpg', 'profile_link_color': 'B40B43', 'profile_sidebar_border_color': 'CC3366', 'profile_sidebar_fill_color': 'E5507E', 'profile_text_color': '362720', 'profile_use_background_image': True, 'has_extended_profile': False, 'default_profile': False, 'default_profile_image': False, 'following': False, 'follow_request_sent': False, 'notifications': False, 'translator_type': 'none'}, id=257773248, id_str='257773248', name='Aparna', screen_name='Garfieldthegr8', location='', description='Tarot Practitioner, Akashic Record enthusiast, Singing Bowl Practitioner, Chartered Accountant. Navigating Life.tweets are personal opinion/views.', url=None, entities={'description': {'urls': []}}, protected=False, followers_count=75, friends_count=814, listed_count=7, created_at=datetime.datetime(2011, 2, 26, 4, 3, 22), favourites_count=833, utc_offset=None, time_zone=None, geo_enabled=True, verified=False, statuses_count=2811, lang=None, contributors_enabled=False, is_translator=False, is_translation_enabled=False, profile_background_color='FF6699', profile_background_image_url='http://abs.twimg.com/images/themes/theme11/bg.gif', profile_background_image_url_https='https://abs.twimg.com/images/themes/theme11/bg.gif', profile_background_tile=True, profile_image_url='http://pbs.twimg.com/profile_images/1256885913176739841/EN4cbD8q_normal.jpg', profile_image_url_https='https://pbs.twimg.com/profile_images/1256885913176739841/EN4cbD8q_normal.jpg', profile_link_color='B40B43', profile_sidebar_border_color='CC3366', profile_sidebar_fill_color='E5507E', profile_text_color='362720', profile_use_background_image=True, has_extended_profile=False, default_profile=False, default_profile_image=False, following=False, follow_request_sent=False, notifications=False, translator_type='none'), geo=None, coordinates=None, place=None, contributors=None, is_quote_status=False, retweet_count=0, favorite_count=0, favorited=False, retweeted=False, lang='en') \n",
      "\n",
      "....................................\n",
      "\n",
      "Status(_api=<tweepy.api.API object at 0x000000A05246BB88>, _json={'created_at': 'Thu Oct 29 13:15:29 +0000 2020', 'id': 1321802840906571777, 'id_str': '1321802840906571777', 'full_text': '@BPNave @VerdadGuardian @ryanoistacher @charliekirk11 Take 5 mins go to https://t.co/LzUGMMYQWP simulator or any other similar website and try the possible combinations, when trump secures the swing states within 2% difference he will win the elections.', 'truncated': False, 'display_text_range': [54, 253], 'entities': {'hashtags': [], 'symbols': [], 'user_mentions': [{'screen_name': 'BPNave', 'name': '💎 The #PokéAllGenPlaythru 💎', 'id': 994394080103645184, 'id_str': '994394080103645184', 'indices': [0, 7]}, {'screen_name': 'VerdadGuardian', 'name': 'Guardián De La Verdad', 'id': 1321410985433927681, 'id_str': '1321410985433927681', 'indices': [8, 23]}, {'screen_name': 'ryanoistacher', 'name': 'Ryan Oistacher 🏴\\u200d☠️', 'id': 164685716, 'id_str': '164685716', 'indices': [24, 38]}, {'screen_name': 'charliekirk11', 'name': 'Charlie Kirk', 'id': 292929271, 'id_str': '292929271', 'indices': [39, 53]}], 'urls': [{'url': 'https://t.co/LzUGMMYQWP', 'expanded_url': 'http://theguardian.com', 'display_url': 'theguardian.com', 'indices': [72, 95]}]}, 'metadata': {'iso_language_code': 'en', 'result_type': 'recent'}, 'source': '<a href=\"http://twitter.com/download/iphone\" rel=\"nofollow\">Twitter for iPhone</a>', 'in_reply_to_status_id': 1321608608166092800, 'in_reply_to_status_id_str': '1321608608166092800', 'in_reply_to_user_id': 994394080103645184, 'in_reply_to_user_id_str': '994394080103645184', 'in_reply_to_screen_name': 'BPNave', 'user': {'id': 4720735213, 'id_str': '4720735213', 'name': 'lebtweet', 'screen_name': 'leb_ttweet', 'location': '', 'description': '', 'url': None, 'entities': {'description': {'urls': []}}, 'protected': False, 'followers_count': 37, 'friends_count': 286, 'listed_count': 0, 'created_at': 'Wed Jan 06 23:16:35 +0000 2016', 'favourites_count': 2422, 'utc_offset': None, 'time_zone': None, 'geo_enabled': False, 'verified': False, 'statuses_count': 373, 'lang': None, 'contributors_enabled': False, 'is_translator': False, 'is_translation_enabled': False, 'profile_background_color': 'F5F8FA', 'profile_background_image_url': None, 'profile_background_image_url_https': None, 'profile_background_tile': False, 'profile_image_url': 'http://pbs.twimg.com/profile_images/1238571258821910529/mPufgOC1_normal.jpg', 'profile_image_url_https': 'https://pbs.twimg.com/profile_images/1238571258821910529/mPufgOC1_normal.jpg', 'profile_link_color': '1DA1F2', 'profile_sidebar_border_color': 'C0DEED', 'profile_sidebar_fill_color': 'DDEEF6', 'profile_text_color': '333333', 'profile_use_background_image': True, 'has_extended_profile': False, 'default_profile': True, 'default_profile_image': False, 'following': False, 'follow_request_sent': False, 'notifications': False, 'translator_type': 'none'}, 'geo': None, 'coordinates': None, 'place': None, 'contributors': None, 'is_quote_status': False, 'retweet_count': 0, 'favorite_count': 0, 'favorited': False, 'retweeted': False, 'possibly_sensitive': False, 'lang': 'en'}, created_at=datetime.datetime(2020, 10, 29, 13, 15, 29), id=1321802840906571777, id_str='1321802840906571777', full_text='@BPNave @VerdadGuardian @ryanoistacher @charliekirk11 Take 5 mins go to https://t.co/LzUGMMYQWP simulator or any other similar website and try the possible combinations, when trump secures the swing states within 2% difference he will win the elections.', truncated=False, display_text_range=[54, 253], entities={'hashtags': [], 'symbols': [], 'user_mentions': [{'screen_name': 'BPNave', 'name': '💎 The #PokéAllGenPlaythru 💎', 'id': 994394080103645184, 'id_str': '994394080103645184', 'indices': [0, 7]}, {'screen_name': 'VerdadGuardian', 'name': 'Guardián De La Verdad', 'id': 1321410985433927681, 'id_str': '1321410985433927681', 'indices': [8, 23]}, {'screen_name': 'ryanoistacher', 'name': 'Ryan Oistacher 🏴\\u200d☠️', 'id': 164685716, 'id_str': '164685716', 'indices': [24, 38]}, {'screen_name': 'charliekirk11', 'name': 'Charlie Kirk', 'id': 292929271, 'id_str': '292929271', 'indices': [39, 53]}], 'urls': [{'url': 'https://t.co/LzUGMMYQWP', 'expanded_url': 'http://theguardian.com', 'display_url': 'theguardian.com', 'indices': [72, 95]}]}, metadata={'iso_language_code': 'en', 'result_type': 'recent'}, source='Twitter for iPhone', source_url='http://twitter.com/download/iphone', in_reply_to_status_id=1321608608166092800, in_reply_to_status_id_str='1321608608166092800', in_reply_to_user_id=994394080103645184, in_reply_to_user_id_str='994394080103645184', in_reply_to_screen_name='BPNave', author=User(_api=<tweepy.api.API object at 0x000000A05246BB88>, _json={'id': 4720735213, 'id_str': '4720735213', 'name': 'lebtweet', 'screen_name': 'leb_ttweet', 'location': '', 'description': '', 'url': None, 'entities': {'description': {'urls': []}}, 'protected': False, 'followers_count': 37, 'friends_count': 286, 'listed_count': 0, 'created_at': 'Wed Jan 06 23:16:35 +0000 2016', 'favourites_count': 2422, 'utc_offset': None, 'time_zone': None, 'geo_enabled': False, 'verified': False, 'statuses_count': 373, 'lang': None, 'contributors_enabled': False, 'is_translator': False, 'is_translation_enabled': False, 'profile_background_color': 'F5F8FA', 'profile_background_image_url': None, 'profile_background_image_url_https': None, 'profile_background_tile': False, 'profile_image_url': 'http://pbs.twimg.com/profile_images/1238571258821910529/mPufgOC1_normal.jpg', 'profile_image_url_https': 'https://pbs.twimg.com/profile_images/1238571258821910529/mPufgOC1_normal.jpg', 'profile_link_color': '1DA1F2', 'profile_sidebar_border_color': 'C0DEED', 'profile_sidebar_fill_color': 'DDEEF6', 'profile_text_color': '333333', 'profile_use_background_image': True, 'has_extended_profile': False, 'default_profile': True, 'default_profile_image': False, 'following': False, 'follow_request_sent': False, 'notifications': False, 'translator_type': 'none'}, id=4720735213, id_str='4720735213', name='lebtweet', screen_name='leb_ttweet', location='', description='', url=None, entities={'description': {'urls': []}}, protected=False, followers_count=37, friends_count=286, listed_count=0, created_at=datetime.datetime(2016, 1, 6, 23, 16, 35), favourites_count=2422, utc_offset=None, time_zone=None, geo_enabled=False, verified=False, statuses_count=373, lang=None, contributors_enabled=False, is_translator=False, is_translation_enabled=False, profile_background_color='F5F8FA', profile_background_image_url=None, profile_background_image_url_https=None, profile_background_tile=False, profile_image_url='http://pbs.twimg.com/profile_images/1238571258821910529/mPufgOC1_normal.jpg', profile_image_url_https='https://pbs.twimg.com/profile_images/1238571258821910529/mPufgOC1_normal.jpg', profile_link_color='1DA1F2', profile_sidebar_border_color='C0DEED', profile_sidebar_fill_color='DDEEF6', profile_text_color='333333', profile_use_background_image=True, has_extended_profile=False, default_profile=True, default_profile_image=False, following=False, follow_request_sent=False, notifications=False, translator_type='none'), user=User(_api=<tweepy.api.API object at 0x000000A05246BB88>, _json={'id': 4720735213, 'id_str': '4720735213', 'name': 'lebtweet', 'screen_name': 'leb_ttweet', 'location': '', 'description': '', 'url': None, 'entities': {'description': {'urls': []}}, 'protected': False, 'followers_count': 37, 'friends_count': 286, 'listed_count': 0, 'created_at': 'Wed Jan 06 23:16:35 +0000 2016', 'favourites_count': 2422, 'utc_offset': None, 'time_zone': None, 'geo_enabled': False, 'verified': False, 'statuses_count': 373, 'lang': None, 'contributors_enabled': False, 'is_translator': False, 'is_translation_enabled': False, 'profile_background_color': 'F5F8FA', 'profile_background_image_url': None, 'profile_background_image_url_https': None, 'profile_background_tile': False, 'profile_image_url': 'http://pbs.twimg.com/profile_images/1238571258821910529/mPufgOC1_normal.jpg', 'profile_image_url_https': 'https://pbs.twimg.com/profile_images/1238571258821910529/mPufgOC1_normal.jpg', 'profile_link_color': '1DA1F2', 'profile_sidebar_border_color': 'C0DEED', 'profile_sidebar_fill_color': 'DDEEF6', 'profile_text_color': '333333', 'profile_use_background_image': True, 'has_extended_profile': False, 'default_profile': True, 'default_profile_image': False, 'following': False, 'follow_request_sent': False, 'notifications': False, 'translator_type': 'none'}, id=4720735213, id_str='4720735213', name='lebtweet', screen_name='leb_ttweet', location='', description='', url=None, entities={'description': {'urls': []}}, protected=False, followers_count=37, friends_count=286, listed_count=0, created_at=datetime.datetime(2016, 1, 6, 23, 16, 35), favourites_count=2422, utc_offset=None, time_zone=None, geo_enabled=False, verified=False, statuses_count=373, lang=None, contributors_enabled=False, is_translator=False, is_translation_enabled=False, profile_background_color='F5F8FA', profile_background_image_url=None, profile_background_image_url_https=None, profile_background_tile=False, profile_image_url='http://pbs.twimg.com/profile_images/1238571258821910529/mPufgOC1_normal.jpg', profile_image_url_https='https://pbs.twimg.com/profile_images/1238571258821910529/mPufgOC1_normal.jpg', profile_link_color='1DA1F2', profile_sidebar_border_color='C0DEED', profile_sidebar_fill_color='DDEEF6', profile_text_color='333333', profile_use_background_image=True, has_extended_profile=False, default_profile=True, default_profile_image=False, following=False, follow_request_sent=False, notifications=False, translator_type='none'), geo=None, coordinates=None, place=None, contributors=None, is_quote_status=False, retweet_count=0, favorite_count=0, favorited=False, retweeted=False, possibly_sensitive=False, lang='en') \n",
      "\n",
      "....................................\n",
      "\n",
      "Status(_api=<tweepy.api.API object at 0x000000A05246BB88>, _json={'created_at': 'Thu Oct 29 12:34:16 +0000 2020', 'id': 1321792469017763841, 'id_str': '1321792469017763841', 'full_text': '@joncoopertweets Trump will cheat as much as he can to win.\\nFacing Gap in Pennsylvania, Trump Camp Tries to Make Voting Harder https://t.co/m6tKZzD6c0\\n#CheaterTrump', 'truncated': False, 'display_text_range': [17, 164], 'entities': {'hashtags': [{'text': 'CheaterTrump', 'indices': [151, 164]}], 'symbols': [], 'user_mentions': [{'screen_name': 'joncoopertweets', 'name': 'Jon Cooper 🇺🇸', 'id': 27493883, 'id_str': '27493883', 'indices': [0, 16]}], 'urls': [{'url': 'https://t.co/m6tKZzD6c0', 'expanded_url': 'https://nyti.ms/35I2Txj', 'display_url': 'nyti.ms/35I2Txj', 'indices': [127, 150]}]}, 'metadata': {'iso_language_code': 'en', 'result_type': 'recent'}, 'source': '<a href=\"https://mobile.twitter.com\" rel=\"nofollow\">Twitter Web App</a>', 'in_reply_to_status_id': 1321791378888757253, 'in_reply_to_status_id_str': '1321791378888757253', 'in_reply_to_user_id': 27493883, 'in_reply_to_user_id_str': '27493883', 'in_reply_to_screen_name': 'joncoopertweets', 'user': {'id': 19505306, 'id_str': '19505306', 'name': 'Truth Justice Love❣️BidenHarris2020!', 'screen_name': 'CoachGayle', 'location': 'Chesapeake Bioregion', 'description': 'Voted early #BidenHarris2020, positive social psychologist, WarrenDem, #resist, #BLM, Master Gardener. Vote 🌊; ♥️ 🌍; plant 🌳; share 🍪.', 'url': None, 'entities': {'description': {'urls': []}}, 'protected': False, 'followers_count': 1339, 'friends_count': 2187, 'listed_count': 18, 'created_at': 'Sun Jan 25 21:15:45 +0000 2009', 'favourites_count': 47408, 'utc_offset': None, 'time_zone': None, 'geo_enabled': True, 'verified': False, 'statuses_count': 21208, 'lang': None, 'contributors_enabled': False, 'is_translator': False, 'is_translation_enabled': False, 'profile_background_color': 'C0DEED', 'profile_background_image_url': 'http://abs.twimg.com/images/themes/theme1/bg.png', 'profile_background_image_url_https': 'https://abs.twimg.com/images/themes/theme1/bg.png', 'profile_background_tile': False, 'profile_image_url': 'http://pbs.twimg.com/profile_images/1310745744752738305/hBahEiBH_normal.jpg', 'profile_image_url_https': 'https://pbs.twimg.com/profile_images/1310745744752738305/hBahEiBH_normal.jpg', 'profile_banner_url': 'https://pbs.twimg.com/profile_banners/19505306/1601341095', 'profile_link_color': '0084B4', 'profile_sidebar_border_color': 'C0DEED', 'profile_sidebar_fill_color': 'DDEEF6', 'profile_text_color': '333333', 'profile_use_background_image': True, 'has_extended_profile': False, 'default_profile': False, 'default_profile_image': False, 'following': False, 'follow_request_sent': False, 'notifications': False, 'translator_type': 'none'}, 'geo': None, 'coordinates': None, 'place': None, 'contributors': None, 'is_quote_status': False, 'retweet_count': 3, 'favorite_count': 3, 'favorited': False, 'retweeted': False, 'possibly_sensitive': False, 'lang': 'en'}, created_at=datetime.datetime(2020, 10, 29, 12, 34, 16), id=1321792469017763841, id_str='1321792469017763841', full_text='@joncoopertweets Trump will cheat as much as he can to win.\\nFacing Gap in Pennsylvania, Trump Camp Tries to Make Voting Harder https://t.co/m6tKZzD6c0\\n#CheaterTrump', truncated=False, display_text_range=[17, 164], entities={'hashtags': [{'text': 'CheaterTrump', 'indices': [151, 164]}], 'symbols': [], 'user_mentions': [{'screen_name': 'joncoopertweets', 'name': 'Jon Cooper 🇺🇸', 'id': 27493883, 'id_str': '27493883', 'indices': [0, 16]}], 'urls': [{'url': 'https://t.co/m6tKZzD6c0', 'expanded_url': 'https://nyti.ms/35I2Txj', 'display_url': 'nyti.ms/35I2Txj', 'indices': [127, 150]}]}, metadata={'iso_language_code': 'en', 'result_type': 'recent'}, source='Twitter Web App', source_url='https://mobile.twitter.com', in_reply_to_status_id=1321791378888757253, in_reply_to_status_id_str='1321791378888757253', in_reply_to_user_id=27493883, in_reply_to_user_id_str='27493883', in_reply_to_screen_name='joncoopertweets', author=User(_api=<tweepy.api.API object at 0x000000A05246BB88>, _json={'id': 19505306, 'id_str': '19505306', 'name': 'Truth Justice Love❣️BidenHarris2020!', 'screen_name': 'CoachGayle', 'location': 'Chesapeake Bioregion', 'description': 'Voted early #BidenHarris2020, positive social psychologist, WarrenDem, #resist, #BLM, Master Gardener. Vote 🌊; ♥️ 🌍; plant 🌳; share 🍪.', 'url': None, 'entities': {'description': {'urls': []}}, 'protected': False, 'followers_count': 1339, 'friends_count': 2187, 'listed_count': 18, 'created_at': 'Sun Jan 25 21:15:45 +0000 2009', 'favourites_count': 47408, 'utc_offset': None, 'time_zone': None, 'geo_enabled': True, 'verified': False, 'statuses_count': 21208, 'lang': None, 'contributors_enabled': False, 'is_translator': False, 'is_translation_enabled': False, 'profile_background_color': 'C0DEED', 'profile_background_image_url': 'http://abs.twimg.com/images/themes/theme1/bg.png', 'profile_background_image_url_https': 'https://abs.twimg.com/images/themes/theme1/bg.png', 'profile_background_tile': False, 'profile_image_url': 'http://pbs.twimg.com/profile_images/1310745744752738305/hBahEiBH_normal.jpg', 'profile_image_url_https': 'https://pbs.twimg.com/profile_images/1310745744752738305/hBahEiBH_normal.jpg', 'profile_banner_url': 'https://pbs.twimg.com/profile_banners/19505306/1601341095', 'profile_link_color': '0084B4', 'profile_sidebar_border_color': 'C0DEED', 'profile_sidebar_fill_color': 'DDEEF6', 'profile_text_color': '333333', 'profile_use_background_image': True, 'has_extended_profile': False, 'default_profile': False, 'default_profile_image': False, 'following': False, 'follow_request_sent': False, 'notifications': False, 'translator_type': 'none'}, id=19505306, id_str='19505306', name='Truth Justice Love❣️BidenHarris2020!', screen_name='CoachGayle', location='Chesapeake Bioregion', description='Voted early #BidenHarris2020, positive social psychologist, WarrenDem, #resist, #BLM, Master Gardener. Vote 🌊; ♥️ 🌍; plant 🌳; share 🍪.', url=None, entities={'description': {'urls': []}}, protected=False, followers_count=1339, friends_count=2187, listed_count=18, created_at=datetime.datetime(2009, 1, 25, 21, 15, 45), favourites_count=47408, utc_offset=None, time_zone=None, geo_enabled=True, verified=False, statuses_count=21208, lang=None, contributors_enabled=False, is_translator=False, is_translation_enabled=False, profile_background_color='C0DEED', profile_background_image_url='http://abs.twimg.com/images/themes/theme1/bg.png', profile_background_image_url_https='https://abs.twimg.com/images/themes/theme1/bg.png', profile_background_tile=False, profile_image_url='http://pbs.twimg.com/profile_images/1310745744752738305/hBahEiBH_normal.jpg', profile_image_url_https='https://pbs.twimg.com/profile_images/1310745744752738305/hBahEiBH_normal.jpg', profile_banner_url='https://pbs.twimg.com/profile_banners/19505306/1601341095', profile_link_color='0084B4', profile_sidebar_border_color='C0DEED', profile_sidebar_fill_color='DDEEF6', profile_text_color='333333', profile_use_background_image=True, has_extended_profile=False, default_profile=False, default_profile_image=False, following=False, follow_request_sent=False, notifications=False, translator_type='none'), user=User(_api=<tweepy.api.API object at 0x000000A05246BB88>, _json={'id': 19505306, 'id_str': '19505306', 'name': 'Truth Justice Love❣️BidenHarris2020!', 'screen_name': 'CoachGayle', 'location': 'Chesapeake Bioregion', 'description': 'Voted early #BidenHarris2020, positive social psychologist, WarrenDem, #resist, #BLM, Master Gardener. Vote 🌊; ♥️ 🌍; plant 🌳; share 🍪.', 'url': None, 'entities': {'description': {'urls': []}}, 'protected': False, 'followers_count': 1339, 'friends_count': 2187, 'listed_count': 18, 'created_at': 'Sun Jan 25 21:15:45 +0000 2009', 'favourites_count': 47408, 'utc_offset': None, 'time_zone': None, 'geo_enabled': True, 'verified': False, 'statuses_count': 21208, 'lang': None, 'contributors_enabled': False, 'is_translator': False, 'is_translation_enabled': False, 'profile_background_color': 'C0DEED', 'profile_background_image_url': 'http://abs.twimg.com/images/themes/theme1/bg.png', 'profile_background_image_url_https': 'https://abs.twimg.com/images/themes/theme1/bg.png', 'profile_background_tile': False, 'profile_image_url': 'http://pbs.twimg.com/profile_images/1310745744752738305/hBahEiBH_normal.jpg', 'profile_image_url_https': 'https://pbs.twimg.com/profile_images/1310745744752738305/hBahEiBH_normal.jpg', 'profile_banner_url': 'https://pbs.twimg.com/profile_banners/19505306/1601341095', 'profile_link_color': '0084B4', 'profile_sidebar_border_color': 'C0DEED', 'profile_sidebar_fill_color': 'DDEEF6', 'profile_text_color': '333333', 'profile_use_background_image': True, 'has_extended_profile': False, 'default_profile': False, 'default_profile_image': False, 'following': False, 'follow_request_sent': False, 'notifications': False, 'translator_type': 'none'}, id=19505306, id_str='19505306', name='Truth Justice Love❣️BidenHarris2020!', screen_name='CoachGayle', location='Chesapeake Bioregion', description='Voted early #BidenHarris2020, positive social psychologist, WarrenDem, #resist, #BLM, Master Gardener. Vote 🌊; ♥️ 🌍; plant 🌳; share 🍪.', url=None, entities={'description': {'urls': []}}, protected=False, followers_count=1339, friends_count=2187, listed_count=18, created_at=datetime.datetime(2009, 1, 25, 21, 15, 45), favourites_count=47408, utc_offset=None, time_zone=None, geo_enabled=True, verified=False, statuses_count=21208, lang=None, contributors_enabled=False, is_translator=False, is_translation_enabled=False, profile_background_color='C0DEED', profile_background_image_url='http://abs.twimg.com/images/themes/theme1/bg.png', profile_background_image_url_https='https://abs.twimg.com/images/themes/theme1/bg.png', profile_background_tile=False, profile_image_url='http://pbs.twimg.com/profile_images/1310745744752738305/hBahEiBH_normal.jpg', profile_image_url_https='https://pbs.twimg.com/profile_images/1310745744752738305/hBahEiBH_normal.jpg', profile_banner_url='https://pbs.twimg.com/profile_banners/19505306/1601341095', profile_link_color='0084B4', profile_sidebar_border_color='C0DEED', profile_sidebar_fill_color='DDEEF6', profile_text_color='333333', profile_use_background_image=True, has_extended_profile=False, default_profile=False, default_profile_image=False, following=False, follow_request_sent=False, notifications=False, translator_type='none'), geo=None, coordinates=None, place=None, contributors=None, is_quote_status=False, retweet_count=3, favorite_count=3, favorited=False, retweeted=False, possibly_sensitive=False, lang='en') \n",
      "\n",
      "....................................\n",
      "\n",
      "Status(_api=<tweepy.api.API object at 0x000000A05246BB88>, _json={'created_at': 'Thu Oct 29 12:25:26 +0000 2020', 'id': 1321790242664435720, 'id_str': '1321790242664435720', 'full_text': 'Who will win the on going US presidential elections in your opinion? #JoeBiden #Trump', 'truncated': False, 'display_text_range': [0, 85], 'entities': {'hashtags': [{'text': 'JoeBiden', 'indices': [69, 78]}, {'text': 'Trump', 'indices': [79, 85]}], 'symbols': [], 'user_mentions': [], 'urls': []}, 'metadata': {'iso_language_code': 'en', 'result_type': 'recent'}, 'source': '<a href=\"http://twitter.com/download/android\" rel=\"nofollow\">Twitter for Android</a>', 'in_reply_to_status_id': None, 'in_reply_to_status_id_str': None, 'in_reply_to_user_id': None, 'in_reply_to_user_id_str': None, 'in_reply_to_screen_name': None, 'user': {'id': 312945881, 'id_str': '312945881', 'name': 'Zizo M', 'screen_name': 'zizomaticz', 'location': 'Abuja, Nigeria', 'description': 'I Transitioned...', 'url': 'https://t.co/Kdw6kRb05O', 'entities': {'url': {'urls': [{'url': 'https://t.co/Kdw6kRb05O', 'expanded_url': 'http://ematicsystems.com', 'display_url': 'ematicsystems.com', 'indices': [0, 23]}]}, 'description': {'urls': []}}, 'protected': False, 'followers_count': 8439, 'friends_count': 9248, 'listed_count': 4, 'created_at': 'Tue Jun 07 22:36:11 +0000 2011', 'favourites_count': 15434, 'utc_offset': None, 'time_zone': None, 'geo_enabled': False, 'verified': False, 'statuses_count': 16309, 'lang': None, 'contributors_enabled': False, 'is_translator': False, 'is_translation_enabled': False, 'profile_background_color': 'C0DEED', 'profile_background_image_url': 'http://abs.twimg.com/images/themes/theme1/bg.png', 'profile_background_image_url_https': 'https://abs.twimg.com/images/themes/theme1/bg.png', 'profile_background_tile': False, 'profile_image_url': 'http://pbs.twimg.com/profile_images/1239002686915260416/ADlRViS7_normal.jpg', 'profile_image_url_https': 'https://pbs.twimg.com/profile_images/1239002686915260416/ADlRViS7_normal.jpg', 'profile_banner_url': 'https://pbs.twimg.com/profile_banners/312945881/1582147647', 'profile_link_color': '0084B4', 'profile_sidebar_border_color': 'C0DEED', 'profile_sidebar_fill_color': 'DDEEF6', 'profile_text_color': '333333', 'profile_use_background_image': True, 'has_extended_profile': True, 'default_profile': False, 'default_profile_image': False, 'following': False, 'follow_request_sent': False, 'notifications': False, 'translator_type': 'none'}, 'geo': None, 'coordinates': None, 'place': None, 'contributors': None, 'is_quote_status': False, 'retweet_count': 1, 'favorite_count': 1, 'favorited': False, 'retweeted': False, 'lang': 'en'}, created_at=datetime.datetime(2020, 10, 29, 12, 25, 26), id=1321790242664435720, id_str='1321790242664435720', full_text='Who will win the on going US presidential elections in your opinion? #JoeBiden #Trump', truncated=False, display_text_range=[0, 85], entities={'hashtags': [{'text': 'JoeBiden', 'indices': [69, 78]}, {'text': 'Trump', 'indices': [79, 85]}], 'symbols': [], 'user_mentions': [], 'urls': []}, metadata={'iso_language_code': 'en', 'result_type': 'recent'}, source='Twitter for Android', source_url='http://twitter.com/download/android', in_reply_to_status_id=None, in_reply_to_status_id_str=None, in_reply_to_user_id=None, in_reply_to_user_id_str=None, in_reply_to_screen_name=None, author=User(_api=<tweepy.api.API object at 0x000000A05246BB88>, _json={'id': 312945881, 'id_str': '312945881', 'name': 'Zizo M', 'screen_name': 'zizomaticz', 'location': 'Abuja, Nigeria', 'description': 'I Transitioned...', 'url': 'https://t.co/Kdw6kRb05O', 'entities': {'url': {'urls': [{'url': 'https://t.co/Kdw6kRb05O', 'expanded_url': 'http://ematicsystems.com', 'display_url': 'ematicsystems.com', 'indices': [0, 23]}]}, 'description': {'urls': []}}, 'protected': False, 'followers_count': 8439, 'friends_count': 9248, 'listed_count': 4, 'created_at': 'Tue Jun 07 22:36:11 +0000 2011', 'favourites_count': 15434, 'utc_offset': None, 'time_zone': None, 'geo_enabled': False, 'verified': False, 'statuses_count': 16309, 'lang': None, 'contributors_enabled': False, 'is_translator': False, 'is_translation_enabled': False, 'profile_background_color': 'C0DEED', 'profile_background_image_url': 'http://abs.twimg.com/images/themes/theme1/bg.png', 'profile_background_image_url_https': 'https://abs.twimg.com/images/themes/theme1/bg.png', 'profile_background_tile': False, 'profile_image_url': 'http://pbs.twimg.com/profile_images/1239002686915260416/ADlRViS7_normal.jpg', 'profile_image_url_https': 'https://pbs.twimg.com/profile_images/1239002686915260416/ADlRViS7_normal.jpg', 'profile_banner_url': 'https://pbs.twimg.com/profile_banners/312945881/1582147647', 'profile_link_color': '0084B4', 'profile_sidebar_border_color': 'C0DEED', 'profile_sidebar_fill_color': 'DDEEF6', 'profile_text_color': '333333', 'profile_use_background_image': True, 'has_extended_profile': True, 'default_profile': False, 'default_profile_image': False, 'following': False, 'follow_request_sent': False, 'notifications': False, 'translator_type': 'none'}, id=312945881, id_str='312945881', name='Zizo M', screen_name='zizomaticz', location='Abuja, Nigeria', description='I Transitioned...', url='https://t.co/Kdw6kRb05O', entities={'url': {'urls': [{'url': 'https://t.co/Kdw6kRb05O', 'expanded_url': 'http://ematicsystems.com', 'display_url': 'ematicsystems.com', 'indices': [0, 23]}]}, 'description': {'urls': []}}, protected=False, followers_count=8439, friends_count=9248, listed_count=4, created_at=datetime.datetime(2011, 6, 7, 22, 36, 11), favourites_count=15434, utc_offset=None, time_zone=None, geo_enabled=False, verified=False, statuses_count=16309, lang=None, contributors_enabled=False, is_translator=False, is_translation_enabled=False, profile_background_color='C0DEED', profile_background_image_url='http://abs.twimg.com/images/themes/theme1/bg.png', profile_background_image_url_https='https://abs.twimg.com/images/themes/theme1/bg.png', profile_background_tile=False, profile_image_url='http://pbs.twimg.com/profile_images/1239002686915260416/ADlRViS7_normal.jpg', profile_image_url_https='https://pbs.twimg.com/profile_images/1239002686915260416/ADlRViS7_normal.jpg', profile_banner_url='https://pbs.twimg.com/profile_banners/312945881/1582147647', profile_link_color='0084B4', profile_sidebar_border_color='C0DEED', profile_sidebar_fill_color='DDEEF6', profile_text_color='333333', profile_use_background_image=True, has_extended_profile=True, default_profile=False, default_profile_image=False, following=False, follow_request_sent=False, notifications=False, translator_type='none'), user=User(_api=<tweepy.api.API object at 0x000000A05246BB88>, _json={'id': 312945881, 'id_str': '312945881', 'name': 'Zizo M', 'screen_name': 'zizomaticz', 'location': 'Abuja, Nigeria', 'description': 'I Transitioned...', 'url': 'https://t.co/Kdw6kRb05O', 'entities': {'url': {'urls': [{'url': 'https://t.co/Kdw6kRb05O', 'expanded_url': 'http://ematicsystems.com', 'display_url': 'ematicsystems.com', 'indices': [0, 23]}]}, 'description': {'urls': []}}, 'protected': False, 'followers_count': 8439, 'friends_count': 9248, 'listed_count': 4, 'created_at': 'Tue Jun 07 22:36:11 +0000 2011', 'favourites_count': 15434, 'utc_offset': None, 'time_zone': None, 'geo_enabled': False, 'verified': False, 'statuses_count': 16309, 'lang': None, 'contributors_enabled': False, 'is_translator': False, 'is_translation_enabled': False, 'profile_background_color': 'C0DEED', 'profile_background_image_url': 'http://abs.twimg.com/images/themes/theme1/bg.png', 'profile_background_image_url_https': 'https://abs.twimg.com/images/themes/theme1/bg.png', 'profile_background_tile': False, 'profile_image_url': 'http://pbs.twimg.com/profile_images/1239002686915260416/ADlRViS7_normal.jpg', 'profile_image_url_https': 'https://pbs.twimg.com/profile_images/1239002686915260416/ADlRViS7_normal.jpg', 'profile_banner_url': 'https://pbs.twimg.com/profile_banners/312945881/1582147647', 'profile_link_color': '0084B4', 'profile_sidebar_border_color': 'C0DEED', 'profile_sidebar_fill_color': 'DDEEF6', 'profile_text_color': '333333', 'profile_use_background_image': True, 'has_extended_profile': True, 'default_profile': False, 'default_profile_image': False, 'following': False, 'follow_request_sent': False, 'notifications': False, 'translator_type': 'none'}, id=312945881, id_str='312945881', name='Zizo M', screen_name='zizomaticz', location='Abuja, Nigeria', description='I Transitioned...', url='https://t.co/Kdw6kRb05O', entities={'url': {'urls': [{'url': 'https://t.co/Kdw6kRb05O', 'expanded_url': 'http://ematicsystems.com', 'display_url': 'ematicsystems.com', 'indices': [0, 23]}]}, 'description': {'urls': []}}, protected=False, followers_count=8439, friends_count=9248, listed_count=4, created_at=datetime.datetime(2011, 6, 7, 22, 36, 11), favourites_count=15434, utc_offset=None, time_zone=None, geo_enabled=False, verified=False, statuses_count=16309, lang=None, contributors_enabled=False, is_translator=False, is_translation_enabled=False, profile_background_color='C0DEED', profile_background_image_url='http://abs.twimg.com/images/themes/theme1/bg.png', profile_background_image_url_https='https://abs.twimg.com/images/themes/theme1/bg.png', profile_background_tile=False, profile_image_url='http://pbs.twimg.com/profile_images/1239002686915260416/ADlRViS7_normal.jpg', profile_image_url_https='https://pbs.twimg.com/profile_images/1239002686915260416/ADlRViS7_normal.jpg', profile_banner_url='https://pbs.twimg.com/profile_banners/312945881/1582147647', profile_link_color='0084B4', profile_sidebar_border_color='C0DEED', profile_sidebar_fill_color='DDEEF6', profile_text_color='333333', profile_use_background_image=True, has_extended_profile=True, default_profile=False, default_profile_image=False, following=False, follow_request_sent=False, notifications=False, translator_type='none'), geo=None, coordinates=None, place=None, contributors=None, is_quote_status=False, retweet_count=1, favorite_count=1, favorited=False, retweeted=False, lang='en') \n",
      "\n",
      "....................................\n",
      "\n",
      "Status(_api=<tweepy.api.API object at 0x000000A05246BB88>, _json={'created_at': 'Thu Oct 29 12:14:21 +0000 2020', 'id': 1321787454173708289, 'id_str': '1321787454173708289', 'full_text': 'The GOP strategy to win Pennsylvania is healthcare, economic policy, energy policy...nope, kidding, it’s voter suppression. They don’t want you to vote because if you do, they will lose. #WhenWeAllVote #voteloud  https://t.co/HFcN8CWGFj', 'truncated': False, 'display_text_range': [0, 236], 'entities': {'hashtags': [{'text': 'WhenWeAllVote', 'indices': [187, 201]}, {'text': 'voteloud', 'indices': [202, 211]}], 'symbols': [], 'user_mentions': [], 'urls': [{'url': 'https://t.co/HFcN8CWGFj', 'expanded_url': 'https://www.nytimes.com/2020/10/29/us/elections/trump-pennsylvania-voter-suppression.html?referringSource=articleShare', 'display_url': 'nytimes.com/2020/10/29/us/…', 'indices': [213, 236]}]}, 'metadata': {'iso_language_code': 'en', 'result_type': 'recent'}, 'source': '<a href=\"http://twitter.com/download/iphone\" rel=\"nofollow\">Twitter for iPhone</a>', 'in_reply_to_status_id': None, 'in_reply_to_status_id_str': None, 'in_reply_to_user_id': None, 'in_reply_to_user_id_str': None, 'in_reply_to_screen_name': None, 'user': {'id': 255194422, 'id_str': '255194422', 'name': 'Kent Truckor', 'screen_name': 'ktruck27', 'location': 'Chicago', 'description': 'Renewable energy developer interested in all things energy, environment, education, innovation, entrepreneruship, technology and international development.', 'url': None, 'entities': {'description': {'urls': []}}, 'protected': False, 'followers_count': 155, 'friends_count': 569, 'listed_count': 8, 'created_at': 'Sun Feb 20 21:39:42 +0000 2011', 'favourites_count': 9557, 'utc_offset': None, 'time_zone': None, 'geo_enabled': True, 'verified': False, 'statuses_count': 2483, 'lang': None, 'contributors_enabled': False, 'is_translator': False, 'is_translation_enabled': False, 'profile_background_color': 'C0DEED', 'profile_background_image_url': 'http://abs.twimg.com/images/themes/theme1/bg.png', 'profile_background_image_url_https': 'https://abs.twimg.com/images/themes/theme1/bg.png', 'profile_background_tile': False, 'profile_image_url': 'http://pbs.twimg.com/profile_images/580903779551281152/axRcMYCv_normal.jpg', 'profile_image_url_https': 'https://pbs.twimg.com/profile_images/580903779551281152/axRcMYCv_normal.jpg', 'profile_banner_url': 'https://pbs.twimg.com/profile_banners/255194422/1586024968', 'profile_link_color': '1DA1F2', 'profile_sidebar_border_color': 'C0DEED', 'profile_sidebar_fill_color': 'DDEEF6', 'profile_text_color': '333333', 'profile_use_background_image': True, 'has_extended_profile': False, 'default_profile': True, 'default_profile_image': False, 'following': False, 'follow_request_sent': False, 'notifications': False, 'translator_type': 'none'}, 'geo': None, 'coordinates': None, 'place': None, 'contributors': None, 'is_quote_status': False, 'retweet_count': 0, 'favorite_count': 0, 'favorited': False, 'retweeted': False, 'possibly_sensitive': False, 'lang': 'en'}, created_at=datetime.datetime(2020, 10, 29, 12, 14, 21), id=1321787454173708289, id_str='1321787454173708289', full_text='The GOP strategy to win Pennsylvania is healthcare, economic policy, energy policy...nope, kidding, it’s voter suppression. They don’t want you to vote because if you do, they will lose. #WhenWeAllVote #voteloud  https://t.co/HFcN8CWGFj', truncated=False, display_text_range=[0, 236], entities={'hashtags': [{'text': 'WhenWeAllVote', 'indices': [187, 201]}, {'text': 'voteloud', 'indices': [202, 211]}], 'symbols': [], 'user_mentions': [], 'urls': [{'url': 'https://t.co/HFcN8CWGFj', 'expanded_url': 'https://www.nytimes.com/2020/10/29/us/elections/trump-pennsylvania-voter-suppression.html?referringSource=articleShare', 'display_url': 'nytimes.com/2020/10/29/us/…', 'indices': [213, 236]}]}, metadata={'iso_language_code': 'en', 'result_type': 'recent'}, source='Twitter for iPhone', source_url='http://twitter.com/download/iphone', in_reply_to_status_id=None, in_reply_to_status_id_str=None, in_reply_to_user_id=None, in_reply_to_user_id_str=None, in_reply_to_screen_name=None, author=User(_api=<tweepy.api.API object at 0x000000A05246BB88>, _json={'id': 255194422, 'id_str': '255194422', 'name': 'Kent Truckor', 'screen_name': 'ktruck27', 'location': 'Chicago', 'description': 'Renewable energy developer interested in all things energy, environment, education, innovation, entrepreneruship, technology and international development.', 'url': None, 'entities': {'description': {'urls': []}}, 'protected': False, 'followers_count': 155, 'friends_count': 569, 'listed_count': 8, 'created_at': 'Sun Feb 20 21:39:42 +0000 2011', 'favourites_count': 9557, 'utc_offset': None, 'time_zone': None, 'geo_enabled': True, 'verified': False, 'statuses_count': 2483, 'lang': None, 'contributors_enabled': False, 'is_translator': False, 'is_translation_enabled': False, 'profile_background_color': 'C0DEED', 'profile_background_image_url': 'http://abs.twimg.com/images/themes/theme1/bg.png', 'profile_background_image_url_https': 'https://abs.twimg.com/images/themes/theme1/bg.png', 'profile_background_tile': False, 'profile_image_url': 'http://pbs.twimg.com/profile_images/580903779551281152/axRcMYCv_normal.jpg', 'profile_image_url_https': 'https://pbs.twimg.com/profile_images/580903779551281152/axRcMYCv_normal.jpg', 'profile_banner_url': 'https://pbs.twimg.com/profile_banners/255194422/1586024968', 'profile_link_color': '1DA1F2', 'profile_sidebar_border_color': 'C0DEED', 'profile_sidebar_fill_color': 'DDEEF6', 'profile_text_color': '333333', 'profile_use_background_image': True, 'has_extended_profile': False, 'default_profile': True, 'default_profile_image': False, 'following': False, 'follow_request_sent': False, 'notifications': False, 'translator_type': 'none'}, id=255194422, id_str='255194422', name='Kent Truckor', screen_name='ktruck27', location='Chicago', description='Renewable energy developer interested in all things energy, environment, education, innovation, entrepreneruship, technology and international development.', url=None, entities={'description': {'urls': []}}, protected=False, followers_count=155, friends_count=569, listed_count=8, created_at=datetime.datetime(2011, 2, 20, 21, 39, 42), favourites_count=9557, utc_offset=None, time_zone=None, geo_enabled=True, verified=False, statuses_count=2483, lang=None, contributors_enabled=False, is_translator=False, is_translation_enabled=False, profile_background_color='C0DEED', profile_background_image_url='http://abs.twimg.com/images/themes/theme1/bg.png', profile_background_image_url_https='https://abs.twimg.com/images/themes/theme1/bg.png', profile_background_tile=False, profile_image_url='http://pbs.twimg.com/profile_images/580903779551281152/axRcMYCv_normal.jpg', profile_image_url_https='https://pbs.twimg.com/profile_images/580903779551281152/axRcMYCv_normal.jpg', profile_banner_url='https://pbs.twimg.com/profile_banners/255194422/1586024968', profile_link_color='1DA1F2', profile_sidebar_border_color='C0DEED', profile_sidebar_fill_color='DDEEF6', profile_text_color='333333', profile_use_background_image=True, has_extended_profile=False, default_profile=True, default_profile_image=False, following=False, follow_request_sent=False, notifications=False, translator_type='none'), user=User(_api=<tweepy.api.API object at 0x000000A05246BB88>, _json={'id': 255194422, 'id_str': '255194422', 'name': 'Kent Truckor', 'screen_name': 'ktruck27', 'location': 'Chicago', 'description': 'Renewable energy developer interested in all things energy, environment, education, innovation, entrepreneruship, technology and international development.', 'url': None, 'entities': {'description': {'urls': []}}, 'protected': False, 'followers_count': 155, 'friends_count': 569, 'listed_count': 8, 'created_at': 'Sun Feb 20 21:39:42 +0000 2011', 'favourites_count': 9557, 'utc_offset': None, 'time_zone': None, 'geo_enabled': True, 'verified': False, 'statuses_count': 2483, 'lang': None, 'contributors_enabled': False, 'is_translator': False, 'is_translation_enabled': False, 'profile_background_color': 'C0DEED', 'profile_background_image_url': 'http://abs.twimg.com/images/themes/theme1/bg.png', 'profile_background_image_url_https': 'https://abs.twimg.com/images/themes/theme1/bg.png', 'profile_background_tile': False, 'profile_image_url': 'http://pbs.twimg.com/profile_images/580903779551281152/axRcMYCv_normal.jpg', 'profile_image_url_https': 'https://pbs.twimg.com/profile_images/580903779551281152/axRcMYCv_normal.jpg', 'profile_banner_url': 'https://pbs.twimg.com/profile_banners/255194422/1586024968', 'profile_link_color': '1DA1F2', 'profile_sidebar_border_color': 'C0DEED', 'profile_sidebar_fill_color': 'DDEEF6', 'profile_text_color': '333333', 'profile_use_background_image': True, 'has_extended_profile': False, 'default_profile': True, 'default_profile_image': False, 'following': False, 'follow_request_sent': False, 'notifications': False, 'translator_type': 'none'}, id=255194422, id_str='255194422', name='Kent Truckor', screen_name='ktruck27', location='Chicago', description='Renewable energy developer interested in all things energy, environment, education, innovation, entrepreneruship, technology and international development.', url=None, entities={'description': {'urls': []}}, protected=False, followers_count=155, friends_count=569, listed_count=8, created_at=datetime.datetime(2011, 2, 20, 21, 39, 42), favourites_count=9557, utc_offset=None, time_zone=None, geo_enabled=True, verified=False, statuses_count=2483, lang=None, contributors_enabled=False, is_translator=False, is_translation_enabled=False, profile_background_color='C0DEED', profile_background_image_url='http://abs.twimg.com/images/themes/theme1/bg.png', profile_background_image_url_https='https://abs.twimg.com/images/themes/theme1/bg.png', profile_background_tile=False, profile_image_url='http://pbs.twimg.com/profile_images/580903779551281152/axRcMYCv_normal.jpg', profile_image_url_https='https://pbs.twimg.com/profile_images/580903779551281152/axRcMYCv_normal.jpg', profile_banner_url='https://pbs.twimg.com/profile_banners/255194422/1586024968', profile_link_color='1DA1F2', profile_sidebar_border_color='C0DEED', profile_sidebar_fill_color='DDEEF6', profile_text_color='333333', profile_use_background_image=True, has_extended_profile=False, default_profile=True, default_profile_image=False, following=False, follow_request_sent=False, notifications=False, translator_type='none'), geo=None, coordinates=None, place=None, contributors=None, is_quote_status=False, retweet_count=0, favorite_count=0, favorited=False, retweeted=False, possibly_sensitive=False, lang='en') \n",
      "\n",
      "....................................\n",
      "\n",
      "Status(_api=<tweepy.api.API object at 0x000000A05246BB88>, _json={'created_at': 'Thu Oct 29 11:23:56 +0000 2020', 'id': 1321774765569290240, 'id_str': '1321774765569290240', 'full_text': '@markets Global markets likely have to brace for more chaos ahead. With US elections uncertain, virus cases uncertain. The only things that are certain are: more lockdowns, no US stimulus, more companies failed, GDP big drop and neither Trump nor Biden win will save the day', 'truncated': False, 'display_text_range': [9, 274], 'entities': {'hashtags': [], 'symbols': [], 'user_mentions': [{'screen_name': 'markets', 'name': 'Bloomberg Markets', 'id': 69620713, 'id_str': '69620713', 'indices': [0, 8]}], 'urls': []}, 'metadata': {'iso_language_code': 'en', 'result_type': 'recent'}, 'source': '<a href=\"http://twitter.com/download/android\" rel=\"nofollow\">Twitter for Android</a>', 'in_reply_to_status_id': 1321766392069279746, 'in_reply_to_status_id_str': '1321766392069279746', 'in_reply_to_user_id': 69620713, 'in_reply_to_user_id_str': '69620713', 'in_reply_to_screen_name': 'markets', 'user': {'id': 1314494689253367808, 'id_str': '1314494689253367808', 'name': 'Twittybird', 'screen_name': 'Twittyb74145915', 'location': '', 'description': \"PhD in Virology\\nWorked in creating viruses and recombinant vaccines\\n(Vaccines don't always work because of propensity issues and different individual immunity)\", 'url': None, 'entities': {'description': {'urls': []}}, 'protected': False, 'followers_count': 4, 'friends_count': 17, 'listed_count': 0, 'created_at': 'Fri Oct 09 09:15:39 +0000 2020', 'favourites_count': 174, 'utc_offset': None, 'time_zone': None, 'geo_enabled': False, 'verified': False, 'statuses_count': 182, 'lang': None, 'contributors_enabled': False, 'is_translator': False, 'is_translation_enabled': False, 'profile_background_color': 'F5F8FA', 'profile_background_image_url': None, 'profile_background_image_url_https': None, 'profile_background_tile': False, 'profile_image_url': 'http://abs.twimg.com/sticky/default_profile_images/default_profile_normal.png', 'profile_image_url_https': 'https://abs.twimg.com/sticky/default_profile_images/default_profile_normal.png', 'profile_link_color': '1DA1F2', 'profile_sidebar_border_color': 'C0DEED', 'profile_sidebar_fill_color': 'DDEEF6', 'profile_text_color': '333333', 'profile_use_background_image': True, 'has_extended_profile': False, 'default_profile': True, 'default_profile_image': True, 'following': False, 'follow_request_sent': False, 'notifications': False, 'translator_type': 'none'}, 'geo': None, 'coordinates': None, 'place': None, 'contributors': None, 'is_quote_status': False, 'retweet_count': 0, 'favorite_count': 1, 'favorited': False, 'retweeted': False, 'lang': 'en'}, created_at=datetime.datetime(2020, 10, 29, 11, 23, 56), id=1321774765569290240, id_str='1321774765569290240', full_text='@markets Global markets likely have to brace for more chaos ahead. With US elections uncertain, virus cases uncertain. The only things that are certain are: more lockdowns, no US stimulus, more companies failed, GDP big drop and neither Trump nor Biden win will save the day', truncated=False, display_text_range=[9, 274], entities={'hashtags': [], 'symbols': [], 'user_mentions': [{'screen_name': 'markets', 'name': 'Bloomberg Markets', 'id': 69620713, 'id_str': '69620713', 'indices': [0, 8]}], 'urls': []}, metadata={'iso_language_code': 'en', 'result_type': 'recent'}, source='Twitter for Android', source_url='http://twitter.com/download/android', in_reply_to_status_id=1321766392069279746, in_reply_to_status_id_str='1321766392069279746', in_reply_to_user_id=69620713, in_reply_to_user_id_str='69620713', in_reply_to_screen_name='markets', author=User(_api=<tweepy.api.API object at 0x000000A05246BB88>, _json={'id': 1314494689253367808, 'id_str': '1314494689253367808', 'name': 'Twittybird', 'screen_name': 'Twittyb74145915', 'location': '', 'description': \"PhD in Virology\\nWorked in creating viruses and recombinant vaccines\\n(Vaccines don't always work because of propensity issues and different individual immunity)\", 'url': None, 'entities': {'description': {'urls': []}}, 'protected': False, 'followers_count': 4, 'friends_count': 17, 'listed_count': 0, 'created_at': 'Fri Oct 09 09:15:39 +0000 2020', 'favourites_count': 174, 'utc_offset': None, 'time_zone': None, 'geo_enabled': False, 'verified': False, 'statuses_count': 182, 'lang': None, 'contributors_enabled': False, 'is_translator': False, 'is_translation_enabled': False, 'profile_background_color': 'F5F8FA', 'profile_background_image_url': None, 'profile_background_image_url_https': None, 'profile_background_tile': False, 'profile_image_url': 'http://abs.twimg.com/sticky/default_profile_images/default_profile_normal.png', 'profile_image_url_https': 'https://abs.twimg.com/sticky/default_profile_images/default_profile_normal.png', 'profile_link_color': '1DA1F2', 'profile_sidebar_border_color': 'C0DEED', 'profile_sidebar_fill_color': 'DDEEF6', 'profile_text_color': '333333', 'profile_use_background_image': True, 'has_extended_profile': False, 'default_profile': True, 'default_profile_image': True, 'following': False, 'follow_request_sent': False, 'notifications': False, 'translator_type': 'none'}, id=1314494689253367808, id_str='1314494689253367808', name='Twittybird', screen_name='Twittyb74145915', location='', description=\"PhD in Virology\\nWorked in creating viruses and recombinant vaccines\\n(Vaccines don't always work because of propensity issues and different individual immunity)\", url=None, entities={'description': {'urls': []}}, protected=False, followers_count=4, friends_count=17, listed_count=0, created_at=datetime.datetime(2020, 10, 9, 9, 15, 39), favourites_count=174, utc_offset=None, time_zone=None, geo_enabled=False, verified=False, statuses_count=182, lang=None, contributors_enabled=False, is_translator=False, is_translation_enabled=False, profile_background_color='F5F8FA', profile_background_image_url=None, profile_background_image_url_https=None, profile_background_tile=False, profile_image_url='http://abs.twimg.com/sticky/default_profile_images/default_profile_normal.png', profile_image_url_https='https://abs.twimg.com/sticky/default_profile_images/default_profile_normal.png', profile_link_color='1DA1F2', profile_sidebar_border_color='C0DEED', profile_sidebar_fill_color='DDEEF6', profile_text_color='333333', profile_use_background_image=True, has_extended_profile=False, default_profile=True, default_profile_image=True, following=False, follow_request_sent=False, notifications=False, translator_type='none'), user=User(_api=<tweepy.api.API object at 0x000000A05246BB88>, _json={'id': 1314494689253367808, 'id_str': '1314494689253367808', 'name': 'Twittybird', 'screen_name': 'Twittyb74145915', 'location': '', 'description': \"PhD in Virology\\nWorked in creating viruses and recombinant vaccines\\n(Vaccines don't always work because of propensity issues and different individual immunity)\", 'url': None, 'entities': {'description': {'urls': []}}, 'protected': False, 'followers_count': 4, 'friends_count': 17, 'listed_count': 0, 'created_at': 'Fri Oct 09 09:15:39 +0000 2020', 'favourites_count': 174, 'utc_offset': None, 'time_zone': None, 'geo_enabled': False, 'verified': False, 'statuses_count': 182, 'lang': None, 'contributors_enabled': False, 'is_translator': False, 'is_translation_enabled': False, 'profile_background_color': 'F5F8FA', 'profile_background_image_url': None, 'profile_background_image_url_https': None, 'profile_background_tile': False, 'profile_image_url': 'http://abs.twimg.com/sticky/default_profile_images/default_profile_normal.png', 'profile_image_url_https': 'https://abs.twimg.com/sticky/default_profile_images/default_profile_normal.png', 'profile_link_color': '1DA1F2', 'profile_sidebar_border_color': 'C0DEED', 'profile_sidebar_fill_color': 'DDEEF6', 'profile_text_color': '333333', 'profile_use_background_image': True, 'has_extended_profile': False, 'default_profile': True, 'default_profile_image': True, 'following': False, 'follow_request_sent': False, 'notifications': False, 'translator_type': 'none'}, id=1314494689253367808, id_str='1314494689253367808', name='Twittybird', screen_name='Twittyb74145915', location='', description=\"PhD in Virology\\nWorked in creating viruses and recombinant vaccines\\n(Vaccines don't always work because of propensity issues and different individual immunity)\", url=None, entities={'description': {'urls': []}}, protected=False, followers_count=4, friends_count=17, listed_count=0, created_at=datetime.datetime(2020, 10, 9, 9, 15, 39), favourites_count=174, utc_offset=None, time_zone=None, geo_enabled=False, verified=False, statuses_count=182, lang=None, contributors_enabled=False, is_translator=False, is_translation_enabled=False, profile_background_color='F5F8FA', profile_background_image_url=None, profile_background_image_url_https=None, profile_background_tile=False, profile_image_url='http://abs.twimg.com/sticky/default_profile_images/default_profile_normal.png', profile_image_url_https='https://abs.twimg.com/sticky/default_profile_images/default_profile_normal.png', profile_link_color='1DA1F2', profile_sidebar_border_color='C0DEED', profile_sidebar_fill_color='DDEEF6', profile_text_color='333333', profile_use_background_image=True, has_extended_profile=False, default_profile=True, default_profile_image=True, following=False, follow_request_sent=False, notifications=False, translator_type='none'), geo=None, coordinates=None, place=None, contributors=None, is_quote_status=False, retweet_count=0, favorite_count=1, favorited=False, retweeted=False, lang='en') \n",
      "\n",
      "....................................\n",
      "\n",
      "Status(_api=<tweepy.api.API object at 0x000000A05246BB88>, _json={'created_at': 'Thu Oct 29 10:45:38 +0000 2020', 'id': 1321765126509350912, 'id_str': '1321765126509350912', 'full_text': 'The #USPresidentialElections2020 may cause high volatility in the #USD. \\n\\nHave you set your #trading strategy for Election Day? How will the greenback respond to a #Trump or #Biden win? \\n#forextrading #2020Elections #volatility #USElection2020 \\n\\n📊👉 https://t.co/Wka2fyuYsh https://t.co/UlJvinVzBz', 'truncated': False, 'display_text_range': [0, 272], 'entities': {'hashtags': [{'text': 'USPresidentialElections2020', 'indices': [4, 32]}, {'text': 'USD', 'indices': [66, 70]}, {'text': 'trading', 'indices': [92, 100]}, {'text': 'Trump', 'indices': [164, 170]}, {'text': 'Biden', 'indices': [174, 180]}, {'text': 'forextrading', 'indices': [187, 200]}, {'text': '2020Elections', 'indices': [201, 215]}, {'text': 'volatility', 'indices': [216, 227]}, {'text': 'USElection2020', 'indices': [228, 243]}], 'symbols': [], 'user_mentions': [], 'urls': [{'url': 'https://t.co/Wka2fyuYsh', 'expanded_url': 'https://blackwellglobal.com/us-presidential-elections-impact-usd/', 'display_url': 'blackwellglobal.com/us-presidentia…', 'indices': [249, 272]}], 'media': [{'id': 1321764766986153984, 'id_str': '1321764766986153984', 'indices': [273, 296], 'media_url': 'http://pbs.twimg.com/media/ElfaDXTWMAA0i-C.jpg', 'media_url_https': 'https://pbs.twimg.com/media/ElfaDXTWMAA0i-C.jpg', 'url': 'https://t.co/UlJvinVzBz', 'display_url': 'pic.twitter.com/UlJvinVzBz', 'expanded_url': 'https://twitter.com/BlackwellGlobal/status/1321765126509350912/photo/1', 'type': 'photo', 'sizes': {'thumb': {'w': 150, 'h': 150, 'resize': 'crop'}, 'small': {'w': 680, 'h': 357, 'resize': 'fit'}, 'medium': {'w': 1200, 'h': 630, 'resize': 'fit'}, 'large': {'w': 1200, 'h': 630, 'resize': 'fit'}}}]}, 'extended_entities': {'media': [{'id': 1321764766986153984, 'id_str': '1321764766986153984', 'indices': [273, 296], 'media_url': 'http://pbs.twimg.com/media/ElfaDXTWMAA0i-C.jpg', 'media_url_https': 'https://pbs.twimg.com/media/ElfaDXTWMAA0i-C.jpg', 'url': 'https://t.co/UlJvinVzBz', 'display_url': 'pic.twitter.com/UlJvinVzBz', 'expanded_url': 'https://twitter.com/BlackwellGlobal/status/1321765126509350912/photo/1', 'type': 'photo', 'sizes': {'thumb': {'w': 150, 'h': 150, 'resize': 'crop'}, 'small': {'w': 680, 'h': 357, 'resize': 'fit'}, 'medium': {'w': 1200, 'h': 630, 'resize': 'fit'}, 'large': {'w': 1200, 'h': 630, 'resize': 'fit'}}}]}, 'metadata': {'iso_language_code': 'en', 'result_type': 'recent'}, 'source': '<a href=\"https://mobile.twitter.com\" rel=\"nofollow\">Twitter Web App</a>', 'in_reply_to_status_id': None, 'in_reply_to_status_id_str': None, 'in_reply_to_user_id': None, 'in_reply_to_user_id_str': None, 'in_reply_to_screen_name': None, 'user': {'id': 466170923, 'id_str': '466170923', 'name': 'Blackwell Global', 'screen_name': 'BlackwellGlobal', 'location': 'London', 'description': 'Award winning global Forex / CFDs #Broker. FCA Regulated.\\n\\nProfessional Trading Tailored for You.\\n\\nTrading #Forex #CFDs #Crypto is high risk.', 'url': 'https://t.co/X1ZHxoYcym', 'entities': {'url': {'urls': [{'url': 'https://t.co/X1ZHxoYcym', 'expanded_url': 'http://www.blackwellglobal.com', 'display_url': 'blackwellglobal.com', 'indices': [0, 23]}]}, 'description': {'urls': []}}, 'protected': False, 'followers_count': 5020, 'friends_count': 4192, 'listed_count': 46, 'created_at': 'Tue Jan 17 04:01:39 +0000 2012', 'favourites_count': 7215, 'utc_offset': None, 'time_zone': None, 'geo_enabled': True, 'verified': False, 'statuses_count': 5937, 'lang': None, 'contributors_enabled': False, 'is_translator': False, 'is_translation_enabled': False, 'profile_background_color': '04345F', 'profile_background_image_url': 'http://abs.twimg.com/images/themes/theme1/bg.png', 'profile_background_image_url_https': 'https://abs.twimg.com/images/themes/theme1/bg.png', 'profile_background_tile': True, 'profile_image_url': 'http://pbs.twimg.com/profile_images/1207611996214091777/yU1G8FWi_normal.png', 'profile_image_url_https': 'https://pbs.twimg.com/profile_images/1207611996214091777/yU1G8FWi_normal.png', 'profile_banner_url': 'https://pbs.twimg.com/profile_banners/466170923/1590745013', 'profile_link_color': '0084B4', 'profile_sidebar_border_color': 'FFFFFF', 'profile_sidebar_fill_color': 'DDEEF6', 'profile_text_color': '333333', 'profile_use_background_image': True, 'has_extended_profile': False, 'default_profile': False, 'default_profile_image': False, 'following': False, 'follow_request_sent': False, 'notifications': False, 'translator_type': 'none'}, 'geo': None, 'coordinates': None, 'place': None, 'contributors': None, 'is_quote_status': False, 'retweet_count': 4, 'favorite_count': 7, 'favorited': False, 'retweeted': False, 'possibly_sensitive': False, 'lang': 'en'}, created_at=datetime.datetime(2020, 10, 29, 10, 45, 38), id=1321765126509350912, id_str='1321765126509350912', full_text='The #USPresidentialElections2020 may cause high volatility in the #USD. \\n\\nHave you set your #trading strategy for Election Day? How will the greenback respond to a #Trump or #Biden win? \\n#forextrading #2020Elections #volatility #USElection2020 \\n\\n📊👉 https://t.co/Wka2fyuYsh https://t.co/UlJvinVzBz', truncated=False, display_text_range=[0, 272], entities={'hashtags': [{'text': 'USPresidentialElections2020', 'indices': [4, 32]}, {'text': 'USD', 'indices': [66, 70]}, {'text': 'trading', 'indices': [92, 100]}, {'text': 'Trump', 'indices': [164, 170]}, {'text': 'Biden', 'indices': [174, 180]}, {'text': 'forextrading', 'indices': [187, 200]}, {'text': '2020Elections', 'indices': [201, 215]}, {'text': 'volatility', 'indices': [216, 227]}, {'text': 'USElection2020', 'indices': [228, 243]}], 'symbols': [], 'user_mentions': [], 'urls': [{'url': 'https://t.co/Wka2fyuYsh', 'expanded_url': 'https://blackwellglobal.com/us-presidential-elections-impact-usd/', 'display_url': 'blackwellglobal.com/us-presidentia…', 'indices': [249, 272]}], 'media': [{'id': 1321764766986153984, 'id_str': '1321764766986153984', 'indices': [273, 296], 'media_url': 'http://pbs.twimg.com/media/ElfaDXTWMAA0i-C.jpg', 'media_url_https': 'https://pbs.twimg.com/media/ElfaDXTWMAA0i-C.jpg', 'url': 'https://t.co/UlJvinVzBz', 'display_url': 'pic.twitter.com/UlJvinVzBz', 'expanded_url': 'https://twitter.com/BlackwellGlobal/status/1321765126509350912/photo/1', 'type': 'photo', 'sizes': {'thumb': {'w': 150, 'h': 150, 'resize': 'crop'}, 'small': {'w': 680, 'h': 357, 'resize': 'fit'}, 'medium': {'w': 1200, 'h': 630, 'resize': 'fit'}, 'large': {'w': 1200, 'h': 630, 'resize': 'fit'}}}]}, extended_entities={'media': [{'id': 1321764766986153984, 'id_str': '1321764766986153984', 'indices': [273, 296], 'media_url': 'http://pbs.twimg.com/media/ElfaDXTWMAA0i-C.jpg', 'media_url_https': 'https://pbs.twimg.com/media/ElfaDXTWMAA0i-C.jpg', 'url': 'https://t.co/UlJvinVzBz', 'display_url': 'pic.twitter.com/UlJvinVzBz', 'expanded_url': 'https://twitter.com/BlackwellGlobal/status/1321765126509350912/photo/1', 'type': 'photo', 'sizes': {'thumb': {'w': 150, 'h': 150, 'resize': 'crop'}, 'small': {'w': 680, 'h': 357, 'resize': 'fit'}, 'medium': {'w': 1200, 'h': 630, 'resize': 'fit'}, 'large': {'w': 1200, 'h': 630, 'resize': 'fit'}}}]}, metadata={'iso_language_code': 'en', 'result_type': 'recent'}, source='Twitter Web App', source_url='https://mobile.twitter.com', in_reply_to_status_id=None, in_reply_to_status_id_str=None, in_reply_to_user_id=None, in_reply_to_user_id_str=None, in_reply_to_screen_name=None, author=User(_api=<tweepy.api.API object at 0x000000A05246BB88>, _json={'id': 466170923, 'id_str': '466170923', 'name': 'Blackwell Global', 'screen_name': 'BlackwellGlobal', 'location': 'London', 'description': 'Award winning global Forex / CFDs #Broker. FCA Regulated.\\n\\nProfessional Trading Tailored for You.\\n\\nTrading #Forex #CFDs #Crypto is high risk.', 'url': 'https://t.co/X1ZHxoYcym', 'entities': {'url': {'urls': [{'url': 'https://t.co/X1ZHxoYcym', 'expanded_url': 'http://www.blackwellglobal.com', 'display_url': 'blackwellglobal.com', 'indices': [0, 23]}]}, 'description': {'urls': []}}, 'protected': False, 'followers_count': 5020, 'friends_count': 4192, 'listed_count': 46, 'created_at': 'Tue Jan 17 04:01:39 +0000 2012', 'favourites_count': 7215, 'utc_offset': None, 'time_zone': None, 'geo_enabled': True, 'verified': False, 'statuses_count': 5937, 'lang': None, 'contributors_enabled': False, 'is_translator': False, 'is_translation_enabled': False, 'profile_background_color': '04345F', 'profile_background_image_url': 'http://abs.twimg.com/images/themes/theme1/bg.png', 'profile_background_image_url_https': 'https://abs.twimg.com/images/themes/theme1/bg.png', 'profile_background_tile': True, 'profile_image_url': 'http://pbs.twimg.com/profile_images/1207611996214091777/yU1G8FWi_normal.png', 'profile_image_url_https': 'https://pbs.twimg.com/profile_images/1207611996214091777/yU1G8FWi_normal.png', 'profile_banner_url': 'https://pbs.twimg.com/profile_banners/466170923/1590745013', 'profile_link_color': '0084B4', 'profile_sidebar_border_color': 'FFFFFF', 'profile_sidebar_fill_color': 'DDEEF6', 'profile_text_color': '333333', 'profile_use_background_image': True, 'has_extended_profile': False, 'default_profile': False, 'default_profile_image': False, 'following': False, 'follow_request_sent': False, 'notifications': False, 'translator_type': 'none'}, id=466170923, id_str='466170923', name='Blackwell Global', screen_name='BlackwellGlobal', location='London', description='Award winning global Forex / CFDs #Broker. FCA Regulated.\\n\\nProfessional Trading Tailored for You.\\n\\nTrading #Forex #CFDs #Crypto is high risk.', url='https://t.co/X1ZHxoYcym', entities={'url': {'urls': [{'url': 'https://t.co/X1ZHxoYcym', 'expanded_url': 'http://www.blackwellglobal.com', 'display_url': 'blackwellglobal.com', 'indices': [0, 23]}]}, 'description': {'urls': []}}, protected=False, followers_count=5020, friends_count=4192, listed_count=46, created_at=datetime.datetime(2012, 1, 17, 4, 1, 39), favourites_count=7215, utc_offset=None, time_zone=None, geo_enabled=True, verified=False, statuses_count=5937, lang=None, contributors_enabled=False, is_translator=False, is_translation_enabled=False, profile_background_color='04345F', profile_background_image_url='http://abs.twimg.com/images/themes/theme1/bg.png', profile_background_image_url_https='https://abs.twimg.com/images/themes/theme1/bg.png', profile_background_tile=True, profile_image_url='http://pbs.twimg.com/profile_images/1207611996214091777/yU1G8FWi_normal.png', profile_image_url_https='https://pbs.twimg.com/profile_images/1207611996214091777/yU1G8FWi_normal.png', profile_banner_url='https://pbs.twimg.com/profile_banners/466170923/1590745013', profile_link_color='0084B4', profile_sidebar_border_color='FFFFFF', profile_sidebar_fill_color='DDEEF6', profile_text_color='333333', profile_use_background_image=True, has_extended_profile=False, default_profile=False, default_profile_image=False, following=False, follow_request_sent=False, notifications=False, translator_type='none'), user=User(_api=<tweepy.api.API object at 0x000000A05246BB88>, _json={'id': 466170923, 'id_str': '466170923', 'name': 'Blackwell Global', 'screen_name': 'BlackwellGlobal', 'location': 'London', 'description': 'Award winning global Forex / CFDs #Broker. FCA Regulated.\\n\\nProfessional Trading Tailored for You.\\n\\nTrading #Forex #CFDs #Crypto is high risk.', 'url': 'https://t.co/X1ZHxoYcym', 'entities': {'url': {'urls': [{'url': 'https://t.co/X1ZHxoYcym', 'expanded_url': 'http://www.blackwellglobal.com', 'display_url': 'blackwellglobal.com', 'indices': [0, 23]}]}, 'description': {'urls': []}}, 'protected': False, 'followers_count': 5020, 'friends_count': 4192, 'listed_count': 46, 'created_at': 'Tue Jan 17 04:01:39 +0000 2012', 'favourites_count': 7215, 'utc_offset': None, 'time_zone': None, 'geo_enabled': True, 'verified': False, 'statuses_count': 5937, 'lang': None, 'contributors_enabled': False, 'is_translator': False, 'is_translation_enabled': False, 'profile_background_color': '04345F', 'profile_background_image_url': 'http://abs.twimg.com/images/themes/theme1/bg.png', 'profile_background_image_url_https': 'https://abs.twimg.com/images/themes/theme1/bg.png', 'profile_background_tile': True, 'profile_image_url': 'http://pbs.twimg.com/profile_images/1207611996214091777/yU1G8FWi_normal.png', 'profile_image_url_https': 'https://pbs.twimg.com/profile_images/1207611996214091777/yU1G8FWi_normal.png', 'profile_banner_url': 'https://pbs.twimg.com/profile_banners/466170923/1590745013', 'profile_link_color': '0084B4', 'profile_sidebar_border_color': 'FFFFFF', 'profile_sidebar_fill_color': 'DDEEF6', 'profile_text_color': '333333', 'profile_use_background_image': True, 'has_extended_profile': False, 'default_profile': False, 'default_profile_image': False, 'following': False, 'follow_request_sent': False, 'notifications': False, 'translator_type': 'none'}, id=466170923, id_str='466170923', name='Blackwell Global', screen_name='BlackwellGlobal', location='London', description='Award winning global Forex / CFDs #Broker. FCA Regulated.\\n\\nProfessional Trading Tailored for You.\\n\\nTrading #Forex #CFDs #Crypto is high risk.', url='https://t.co/X1ZHxoYcym', entities={'url': {'urls': [{'url': 'https://t.co/X1ZHxoYcym', 'expanded_url': 'http://www.blackwellglobal.com', 'display_url': 'blackwellglobal.com', 'indices': [0, 23]}]}, 'description': {'urls': []}}, protected=False, followers_count=5020, friends_count=4192, listed_count=46, created_at=datetime.datetime(2012, 1, 17, 4, 1, 39), favourites_count=7215, utc_offset=None, time_zone=None, geo_enabled=True, verified=False, statuses_count=5937, lang=None, contributors_enabled=False, is_translator=False, is_translation_enabled=False, profile_background_color='04345F', profile_background_image_url='http://abs.twimg.com/images/themes/theme1/bg.png', profile_background_image_url_https='https://abs.twimg.com/images/themes/theme1/bg.png', profile_background_tile=True, profile_image_url='http://pbs.twimg.com/profile_images/1207611996214091777/yU1G8FWi_normal.png', profile_image_url_https='https://pbs.twimg.com/profile_images/1207611996214091777/yU1G8FWi_normal.png', profile_banner_url='https://pbs.twimg.com/profile_banners/466170923/1590745013', profile_link_color='0084B4', profile_sidebar_border_color='FFFFFF', profile_sidebar_fill_color='DDEEF6', profile_text_color='333333', profile_use_background_image=True, has_extended_profile=False, default_profile=False, default_profile_image=False, following=False, follow_request_sent=False, notifications=False, translator_type='none'), geo=None, coordinates=None, place=None, contributors=None, is_quote_status=False, retweet_count=4, favorite_count=7, favorited=False, retweeted=False, possibly_sensitive=False, lang='en') \n",
      "\n",
      "....................................\n",
      "\n",
      "Status(_api=<tweepy.api.API object at 0x000000A05246BB88>, _json={'created_at': 'Thu Oct 29 09:42:10 +0000 2020', 'id': 1321749156881334273, 'id_str': '1321749156881334273', 'full_text': \"Standing a few days ahead of the most awaited event, the dollar's reaction to the outcome of US election amid huge stimulus promised by both Trump and Biden will be catching eyeballs. What's next in the box for rupee in the medium term?\\n\\nTo know more 👇🏻\\n\\nhttps://t.co/zizg3p17Ac\", 'truncated': False, 'display_text_range': [0, 278], 'entities': {'hashtags': [], 'symbols': [], 'user_mentions': [], 'urls': [{'url': 'https://t.co/zizg3p17Ac', 'expanded_url': 'https://www.cnbctv18.com/market/currency/us-elections-2020-will-trump-win-drive-the-dollar-up-or-biden-7322281.htm', 'display_url': 'cnbctv18.com/market/currenc…', 'indices': [255, 278]}]}, 'metadata': {'iso_language_code': 'en', 'result_type': 'recent'}, 'source': '<a href=\"http://twitter.com/download/android\" rel=\"nofollow\">Twitter for Android</a>', 'in_reply_to_status_id': None, 'in_reply_to_status_id_str': None, 'in_reply_to_user_id': None, 'in_reply_to_user_id_str': None, 'in_reply_to_screen_name': None, 'user': {'id': 1145994040954904576, 'id_str': '1145994040954904576', 'name': 'CR Forex', 'screen_name': 'forex_cr', 'location': '', 'description': 'We are a team of dedicated professionals with domain expertise from treasury and forex consulting back ground.', 'url': None, 'entities': {'description': {'urls': []}}, 'protected': False, 'followers_count': 29, 'friends_count': 250, 'listed_count': 0, 'created_at': 'Tue Jul 02 09:54:05 +0000 2019', 'favourites_count': 48, 'utc_offset': None, 'time_zone': None, 'geo_enabled': False, 'verified': False, 'statuses_count': 71, 'lang': None, 'contributors_enabled': False, 'is_translator': False, 'is_translation_enabled': False, 'profile_background_color': 'F5F8FA', 'profile_background_image_url': None, 'profile_background_image_url_https': None, 'profile_background_tile': False, 'profile_image_url': 'http://pbs.twimg.com/profile_images/1146013887973605376/kcF2CF0D_normal.png', 'profile_image_url_https': 'https://pbs.twimg.com/profile_images/1146013887973605376/kcF2CF0D_normal.png', 'profile_link_color': '1DA1F2', 'profile_sidebar_border_color': 'C0DEED', 'profile_sidebar_fill_color': 'DDEEF6', 'profile_text_color': '333333', 'profile_use_background_image': True, 'has_extended_profile': False, 'default_profile': True, 'default_profile_image': False, 'following': False, 'follow_request_sent': False, 'notifications': False, 'translator_type': 'none'}, 'geo': None, 'coordinates': None, 'place': None, 'contributors': None, 'is_quote_status': False, 'retweet_count': 0, 'favorite_count': 1, 'favorited': False, 'retweeted': False, 'possibly_sensitive': False, 'lang': 'en'}, created_at=datetime.datetime(2020, 10, 29, 9, 42, 10), id=1321749156881334273, id_str='1321749156881334273', full_text=\"Standing a few days ahead of the most awaited event, the dollar's reaction to the outcome of US election amid huge stimulus promised by both Trump and Biden will be catching eyeballs. What's next in the box for rupee in the medium term?\\n\\nTo know more 👇🏻\\n\\nhttps://t.co/zizg3p17Ac\", truncated=False, display_text_range=[0, 278], entities={'hashtags': [], 'symbols': [], 'user_mentions': [], 'urls': [{'url': 'https://t.co/zizg3p17Ac', 'expanded_url': 'https://www.cnbctv18.com/market/currency/us-elections-2020-will-trump-win-drive-the-dollar-up-or-biden-7322281.htm', 'display_url': 'cnbctv18.com/market/currenc…', 'indices': [255, 278]}]}, metadata={'iso_language_code': 'en', 'result_type': 'recent'}, source='Twitter for Android', source_url='http://twitter.com/download/android', in_reply_to_status_id=None, in_reply_to_status_id_str=None, in_reply_to_user_id=None, in_reply_to_user_id_str=None, in_reply_to_screen_name=None, author=User(_api=<tweepy.api.API object at 0x000000A05246BB88>, _json={'id': 1145994040954904576, 'id_str': '1145994040954904576', 'name': 'CR Forex', 'screen_name': 'forex_cr', 'location': '', 'description': 'We are a team of dedicated professionals with domain expertise from treasury and forex consulting back ground.', 'url': None, 'entities': {'description': {'urls': []}}, 'protected': False, 'followers_count': 29, 'friends_count': 250, 'listed_count': 0, 'created_at': 'Tue Jul 02 09:54:05 +0000 2019', 'favourites_count': 48, 'utc_offset': None, 'time_zone': None, 'geo_enabled': False, 'verified': False, 'statuses_count': 71, 'lang': None, 'contributors_enabled': False, 'is_translator': False, 'is_translation_enabled': False, 'profile_background_color': 'F5F8FA', 'profile_background_image_url': None, 'profile_background_image_url_https': None, 'profile_background_tile': False, 'profile_image_url': 'http://pbs.twimg.com/profile_images/1146013887973605376/kcF2CF0D_normal.png', 'profile_image_url_https': 'https://pbs.twimg.com/profile_images/1146013887973605376/kcF2CF0D_normal.png', 'profile_link_color': '1DA1F2', 'profile_sidebar_border_color': 'C0DEED', 'profile_sidebar_fill_color': 'DDEEF6', 'profile_text_color': '333333', 'profile_use_background_image': True, 'has_extended_profile': False, 'default_profile': True, 'default_profile_image': False, 'following': False, 'follow_request_sent': False, 'notifications': False, 'translator_type': 'none'}, id=1145994040954904576, id_str='1145994040954904576', name='CR Forex', screen_name='forex_cr', location='', description='We are a team of dedicated professionals with domain expertise from treasury and forex consulting back ground.', url=None, entities={'description': {'urls': []}}, protected=False, followers_count=29, friends_count=250, listed_count=0, created_at=datetime.datetime(2019, 7, 2, 9, 54, 5), favourites_count=48, utc_offset=None, time_zone=None, geo_enabled=False, verified=False, statuses_count=71, lang=None, contributors_enabled=False, is_translator=False, is_translation_enabled=False, profile_background_color='F5F8FA', profile_background_image_url=None, profile_background_image_url_https=None, profile_background_tile=False, profile_image_url='http://pbs.twimg.com/profile_images/1146013887973605376/kcF2CF0D_normal.png', profile_image_url_https='https://pbs.twimg.com/profile_images/1146013887973605376/kcF2CF0D_normal.png', profile_link_color='1DA1F2', profile_sidebar_border_color='C0DEED', profile_sidebar_fill_color='DDEEF6', profile_text_color='333333', profile_use_background_image=True, has_extended_profile=False, default_profile=True, default_profile_image=False, following=False, follow_request_sent=False, notifications=False, translator_type='none'), user=User(_api=<tweepy.api.API object at 0x000000A05246BB88>, _json={'id': 1145994040954904576, 'id_str': '1145994040954904576', 'name': 'CR Forex', 'screen_name': 'forex_cr', 'location': '', 'description': 'We are a team of dedicated professionals with domain expertise from treasury and forex consulting back ground.', 'url': None, 'entities': {'description': {'urls': []}}, 'protected': False, 'followers_count': 29, 'friends_count': 250, 'listed_count': 0, 'created_at': 'Tue Jul 02 09:54:05 +0000 2019', 'favourites_count': 48, 'utc_offset': None, 'time_zone': None, 'geo_enabled': False, 'verified': False, 'statuses_count': 71, 'lang': None, 'contributors_enabled': False, 'is_translator': False, 'is_translation_enabled': False, 'profile_background_color': 'F5F8FA', 'profile_background_image_url': None, 'profile_background_image_url_https': None, 'profile_background_tile': False, 'profile_image_url': 'http://pbs.twimg.com/profile_images/1146013887973605376/kcF2CF0D_normal.png', 'profile_image_url_https': 'https://pbs.twimg.com/profile_images/1146013887973605376/kcF2CF0D_normal.png', 'profile_link_color': '1DA1F2', 'profile_sidebar_border_color': 'C0DEED', 'profile_sidebar_fill_color': 'DDEEF6', 'profile_text_color': '333333', 'profile_use_background_image': True, 'has_extended_profile': False, 'default_profile': True, 'default_profile_image': False, 'following': False, 'follow_request_sent': False, 'notifications': False, 'translator_type': 'none'}, id=1145994040954904576, id_str='1145994040954904576', name='CR Forex', screen_name='forex_cr', location='', description='We are a team of dedicated professionals with domain expertise from treasury and forex consulting back ground.', url=None, entities={'description': {'urls': []}}, protected=False, followers_count=29, friends_count=250, listed_count=0, created_at=datetime.datetime(2019, 7, 2, 9, 54, 5), favourites_count=48, utc_offset=None, time_zone=None, geo_enabled=False, verified=False, statuses_count=71, lang=None, contributors_enabled=False, is_translator=False, is_translation_enabled=False, profile_background_color='F5F8FA', profile_background_image_url=None, profile_background_image_url_https=None, profile_background_tile=False, profile_image_url='http://pbs.twimg.com/profile_images/1146013887973605376/kcF2CF0D_normal.png', profile_image_url_https='https://pbs.twimg.com/profile_images/1146013887973605376/kcF2CF0D_normal.png', profile_link_color='1DA1F2', profile_sidebar_border_color='C0DEED', profile_sidebar_fill_color='DDEEF6', profile_text_color='333333', profile_use_background_image=True, has_extended_profile=False, default_profile=True, default_profile_image=False, following=False, follow_request_sent=False, notifications=False, translator_type='none'), geo=None, coordinates=None, place=None, contributors=None, is_quote_status=False, retweet_count=0, favorite_count=1, favorited=False, retweeted=False, possibly_sensitive=False, lang='en') \n",
      "\n",
      "....................................\n",
      "\n",
      "Status(_api=<tweepy.api.API object at 0x000000A05246BB88>, _json={'created_at': 'Thu Oct 29 09:36:49 +0000 2020', 'id': 1321747809943621632, 'id_str': '1321747809943621632', 'full_text': '@SquareMole Agree totally. It seems that the Uk gov is doing exactly what Trump does hence why Johnson is waiting what flavour will win the US elections.', 'truncated': False, 'display_text_range': [12, 153], 'entities': {'hashtags': [], 'symbols': [], 'user_mentions': [{'screen_name': 'SquareMole', 'name': 'Rich in name only', 'id': 149459451, 'id_str': '149459451', 'indices': [0, 11]}], 'urls': []}, 'metadata': {'iso_language_code': 'en', 'result_type': 'recent'}, 'source': '<a href=\"http://twitter.com/download/iphone\" rel=\"nofollow\">Twitter for iPhone</a>', 'in_reply_to_status_id': 1321747424633884673, 'in_reply_to_status_id_str': '1321747424633884673', 'in_reply_to_user_id': 149459451, 'in_reply_to_user_id_str': '149459451', 'in_reply_to_screen_name': 'SquareMole', 'user': {'id': 790334365989498880, 'id_str': '790334365989498880', 'name': 'Frenchie Mc Frenchface', 'screen_name': 'blEUfrenchbird', 'location': 'Cambridge, Paris, La Rochelle', 'description': 'Real Alexa, Frenchbird in the UK , mother of European Kiddoes; in no particular order Antifascist, feminist, Cook #ClandestineGourmet  #FBPE #teampainauchocolat', 'url': None, 'entities': {'description': {'urls': []}}, 'protected': False, 'followers_count': 9059, 'friends_count': 7622, 'listed_count': 16, 'created_at': 'Sun Oct 23 23:29:31 +0000 2016', 'favourites_count': 79451, 'utc_offset': None, 'time_zone': None, 'geo_enabled': False, 'verified': False, 'statuses_count': 36749, 'lang': None, 'contributors_enabled': False, 'is_translator': False, 'is_translation_enabled': False, 'profile_background_color': '000000', 'profile_background_image_url': 'http://abs.twimg.com/images/themes/theme1/bg.png', 'profile_background_image_url_https': 'https://abs.twimg.com/images/themes/theme1/bg.png', 'profile_background_tile': False, 'profile_image_url': 'http://pbs.twimg.com/profile_images/1313410783569678341/n_aRRDEE_normal.jpg', 'profile_image_url_https': 'https://pbs.twimg.com/profile_images/1313410783569678341/n_aRRDEE_normal.jpg', 'profile_banner_url': 'https://pbs.twimg.com/profile_banners/790334365989498880/1575540421', 'profile_link_color': '776688', 'profile_sidebar_border_color': '000000', 'profile_sidebar_fill_color': '000000', 'profile_text_color': '000000', 'profile_use_background_image': False, 'has_extended_profile': True, 'default_profile': False, 'default_profile_image': False, 'following': False, 'follow_request_sent': False, 'notifications': False, 'translator_type': 'none'}, 'geo': None, 'coordinates': None, 'place': None, 'contributors': None, 'is_quote_status': False, 'retweet_count': 0, 'favorite_count': 1, 'favorited': False, 'retweeted': False, 'lang': 'en'}, created_at=datetime.datetime(2020, 10, 29, 9, 36, 49), id=1321747809943621632, id_str='1321747809943621632', full_text='@SquareMole Agree totally. It seems that the Uk gov is doing exactly what Trump does hence why Johnson is waiting what flavour will win the US elections.', truncated=False, display_text_range=[12, 153], entities={'hashtags': [], 'symbols': [], 'user_mentions': [{'screen_name': 'SquareMole', 'name': 'Rich in name only', 'id': 149459451, 'id_str': '149459451', 'indices': [0, 11]}], 'urls': []}, metadata={'iso_language_code': 'en', 'result_type': 'recent'}, source='Twitter for iPhone', source_url='http://twitter.com/download/iphone', in_reply_to_status_id=1321747424633884673, in_reply_to_status_id_str='1321747424633884673', in_reply_to_user_id=149459451, in_reply_to_user_id_str='149459451', in_reply_to_screen_name='SquareMole', author=User(_api=<tweepy.api.API object at 0x000000A05246BB88>, _json={'id': 790334365989498880, 'id_str': '790334365989498880', 'name': 'Frenchie Mc Frenchface', 'screen_name': 'blEUfrenchbird', 'location': 'Cambridge, Paris, La Rochelle', 'description': 'Real Alexa, Frenchbird in the UK , mother of European Kiddoes; in no particular order Antifascist, feminist, Cook #ClandestineGourmet  #FBPE #teampainauchocolat', 'url': None, 'entities': {'description': {'urls': []}}, 'protected': False, 'followers_count': 9059, 'friends_count': 7622, 'listed_count': 16, 'created_at': 'Sun Oct 23 23:29:31 +0000 2016', 'favourites_count': 79451, 'utc_offset': None, 'time_zone': None, 'geo_enabled': False, 'verified': False, 'statuses_count': 36749, 'lang': None, 'contributors_enabled': False, 'is_translator': False, 'is_translation_enabled': False, 'profile_background_color': '000000', 'profile_background_image_url': 'http://abs.twimg.com/images/themes/theme1/bg.png', 'profile_background_image_url_https': 'https://abs.twimg.com/images/themes/theme1/bg.png', 'profile_background_tile': False, 'profile_image_url': 'http://pbs.twimg.com/profile_images/1313410783569678341/n_aRRDEE_normal.jpg', 'profile_image_url_https': 'https://pbs.twimg.com/profile_images/1313410783569678341/n_aRRDEE_normal.jpg', 'profile_banner_url': 'https://pbs.twimg.com/profile_banners/790334365989498880/1575540421', 'profile_link_color': '776688', 'profile_sidebar_border_color': '000000', 'profile_sidebar_fill_color': '000000', 'profile_text_color': '000000', 'profile_use_background_image': False, 'has_extended_profile': True, 'default_profile': False, 'default_profile_image': False, 'following': False, 'follow_request_sent': False, 'notifications': False, 'translator_type': 'none'}, id=790334365989498880, id_str='790334365989498880', name='Frenchie Mc Frenchface', screen_name='blEUfrenchbird', location='Cambridge, Paris, La Rochelle', description='Real Alexa, Frenchbird in the UK , mother of European Kiddoes; in no particular order Antifascist, feminist, Cook #ClandestineGourmet  #FBPE #teampainauchocolat', url=None, entities={'description': {'urls': []}}, protected=False, followers_count=9059, friends_count=7622, listed_count=16, created_at=datetime.datetime(2016, 10, 23, 23, 29, 31), favourites_count=79451, utc_offset=None, time_zone=None, geo_enabled=False, verified=False, statuses_count=36749, lang=None, contributors_enabled=False, is_translator=False, is_translation_enabled=False, profile_background_color='000000', profile_background_image_url='http://abs.twimg.com/images/themes/theme1/bg.png', profile_background_image_url_https='https://abs.twimg.com/images/themes/theme1/bg.png', profile_background_tile=False, profile_image_url='http://pbs.twimg.com/profile_images/1313410783569678341/n_aRRDEE_normal.jpg', profile_image_url_https='https://pbs.twimg.com/profile_images/1313410783569678341/n_aRRDEE_normal.jpg', profile_banner_url='https://pbs.twimg.com/profile_banners/790334365989498880/1575540421', profile_link_color='776688', profile_sidebar_border_color='000000', profile_sidebar_fill_color='000000', profile_text_color='000000', profile_use_background_image=False, has_extended_profile=True, default_profile=False, default_profile_image=False, following=False, follow_request_sent=False, notifications=False, translator_type='none'), user=User(_api=<tweepy.api.API object at 0x000000A05246BB88>, _json={'id': 790334365989498880, 'id_str': '790334365989498880', 'name': 'Frenchie Mc Frenchface', 'screen_name': 'blEUfrenchbird', 'location': 'Cambridge, Paris, La Rochelle', 'description': 'Real Alexa, Frenchbird in the UK , mother of European Kiddoes; in no particular order Antifascist, feminist, Cook #ClandestineGourmet  #FBPE #teampainauchocolat', 'url': None, 'entities': {'description': {'urls': []}}, 'protected': False, 'followers_count': 9059, 'friends_count': 7622, 'listed_count': 16, 'created_at': 'Sun Oct 23 23:29:31 +0000 2016', 'favourites_count': 79451, 'utc_offset': None, 'time_zone': None, 'geo_enabled': False, 'verified': False, 'statuses_count': 36749, 'lang': None, 'contributors_enabled': False, 'is_translator': False, 'is_translation_enabled': False, 'profile_background_color': '000000', 'profile_background_image_url': 'http://abs.twimg.com/images/themes/theme1/bg.png', 'profile_background_image_url_https': 'https://abs.twimg.com/images/themes/theme1/bg.png', 'profile_background_tile': False, 'profile_image_url': 'http://pbs.twimg.com/profile_images/1313410783569678341/n_aRRDEE_normal.jpg', 'profile_image_url_https': 'https://pbs.twimg.com/profile_images/1313410783569678341/n_aRRDEE_normal.jpg', 'profile_banner_url': 'https://pbs.twimg.com/profile_banners/790334365989498880/1575540421', 'profile_link_color': '776688', 'profile_sidebar_border_color': '000000', 'profile_sidebar_fill_color': '000000', 'profile_text_color': '000000', 'profile_use_background_image': False, 'has_extended_profile': True, 'default_profile': False, 'default_profile_image': False, 'following': False, 'follow_request_sent': False, 'notifications': False, 'translator_type': 'none'}, id=790334365989498880, id_str='790334365989498880', name='Frenchie Mc Frenchface', screen_name='blEUfrenchbird', location='Cambridge, Paris, La Rochelle', description='Real Alexa, Frenchbird in the UK , mother of European Kiddoes; in no particular order Antifascist, feminist, Cook #ClandestineGourmet  #FBPE #teampainauchocolat', url=None, entities={'description': {'urls': []}}, protected=False, followers_count=9059, friends_count=7622, listed_count=16, created_at=datetime.datetime(2016, 10, 23, 23, 29, 31), favourites_count=79451, utc_offset=None, time_zone=None, geo_enabled=False, verified=False, statuses_count=36749, lang=None, contributors_enabled=False, is_translator=False, is_translation_enabled=False, profile_background_color='000000', profile_background_image_url='http://abs.twimg.com/images/themes/theme1/bg.png', profile_background_image_url_https='https://abs.twimg.com/images/themes/theme1/bg.png', profile_background_tile=False, profile_image_url='http://pbs.twimg.com/profile_images/1313410783569678341/n_aRRDEE_normal.jpg', profile_image_url_https='https://pbs.twimg.com/profile_images/1313410783569678341/n_aRRDEE_normal.jpg', profile_banner_url='https://pbs.twimg.com/profile_banners/790334365989498880/1575540421', profile_link_color='776688', profile_sidebar_border_color='000000', profile_sidebar_fill_color='000000', profile_text_color='000000', profile_use_background_image=False, has_extended_profile=True, default_profile=False, default_profile_image=False, following=False, follow_request_sent=False, notifications=False, translator_type='none'), geo=None, coordinates=None, place=None, contributors=None, is_quote_status=False, retweet_count=0, favorite_count=1, favorited=False, retweeted=False, lang='en') \n",
      "\n",
      "....................................\n",
      "\n",
      "Status(_api=<tweepy.api.API object at 0x000000A05246BB88>, _json={'created_at': 'Thu Oct 29 09:17:20 +0000 2020', 'id': 1321742906785517568, 'id_str': '1321742906785517568', 'full_text': \"Great piece by @NoelRock on the US election. It's pretty spot on but despite the Biden win, Trump will not concede  and will still be president for a second term. Sadly.\\nhttps://t.co/nOMlSnyYv9\", 'truncated': False, 'display_text_range': [0, 193], 'entities': {'hashtags': [], 'symbols': [], 'user_mentions': [{'screen_name': 'NoelRock', 'name': 'Noel Rock', 'id': 17210507, 'id_str': '17210507', 'indices': [15, 24]}], 'urls': [{'url': 'https://t.co/nOMlSnyYv9', 'expanded_url': 'https://www.thejournal.ie/readme/us-elections-polls-outcome-analysis-opinion-5247791-Oct2020/?utm_source=shortlink', 'display_url': 'thejournal.ie/readme/us-elec…', 'indices': [170, 193]}]}, 'metadata': {'iso_language_code': 'en', 'result_type': 'recent'}, 'source': '<a href=\"https://mobile.twitter.com\" rel=\"nofollow\">Twitter Web App</a>', 'in_reply_to_status_id': None, 'in_reply_to_status_id_str': None, 'in_reply_to_user_id': None, 'in_reply_to_user_id_str': None, 'in_reply_to_screen_name': None, 'user': {'id': 29704875, 'id_str': '29704875', 'name': 'Jonny McDade 🇮🇪🇨🇱🇪🇺🍺', 'screen_name': 'JonnyMcDade', 'location': 'Dublin', 'description': 'Arsenal FC activist. Political junkie. Sci-fi geek. Head of Drinks Ireland Beer and Drinks Ireland Cider.', 'url': None, 'entities': {'description': {'urls': []}}, 'protected': False, 'followers_count': 547, 'friends_count': 1843, 'listed_count': 3, 'created_at': 'Wed Apr 08 12:38:29 +0000 2009', 'favourites_count': 17960, 'utc_offset': None, 'time_zone': None, 'geo_enabled': True, 'verified': False, 'statuses_count': 5035, 'lang': None, 'contributors_enabled': False, 'is_translator': False, 'is_translation_enabled': False, 'profile_background_color': '000000', 'profile_background_image_url': 'http://abs.twimg.com/images/themes/theme14/bg.gif', 'profile_background_image_url_https': 'https://abs.twimg.com/images/themes/theme14/bg.gif', 'profile_background_tile': False, 'profile_image_url': 'http://pbs.twimg.com/profile_images/1182402057619300354/0-kjfcRn_normal.jpg', 'profile_image_url_https': 'https://pbs.twimg.com/profile_images/1182402057619300354/0-kjfcRn_normal.jpg', 'profile_banner_url': 'https://pbs.twimg.com/profile_banners/29704875/1542112651', 'profile_link_color': '19CF86', 'profile_sidebar_border_color': '000000', 'profile_sidebar_fill_color': '000000', 'profile_text_color': '000000', 'profile_use_background_image': False, 'has_extended_profile': True, 'default_profile': False, 'default_profile_image': False, 'following': False, 'follow_request_sent': False, 'notifications': False, 'translator_type': 'none'}, 'geo': None, 'coordinates': None, 'place': None, 'contributors': None, 'is_quote_status': False, 'retweet_count': 0, 'favorite_count': 2, 'favorited': False, 'retweeted': False, 'possibly_sensitive': False, 'lang': 'en'}, created_at=datetime.datetime(2020, 10, 29, 9, 17, 20), id=1321742906785517568, id_str='1321742906785517568', full_text=\"Great piece by @NoelRock on the US election. It's pretty spot on but despite the Biden win, Trump will not concede  and will still be president for a second term. Sadly.\\nhttps://t.co/nOMlSnyYv9\", truncated=False, display_text_range=[0, 193], entities={'hashtags': [], 'symbols': [], 'user_mentions': [{'screen_name': 'NoelRock', 'name': 'Noel Rock', 'id': 17210507, 'id_str': '17210507', 'indices': [15, 24]}], 'urls': [{'url': 'https://t.co/nOMlSnyYv9', 'expanded_url': 'https://www.thejournal.ie/readme/us-elections-polls-outcome-analysis-opinion-5247791-Oct2020/?utm_source=shortlink', 'display_url': 'thejournal.ie/readme/us-elec…', 'indices': [170, 193]}]}, metadata={'iso_language_code': 'en', 'result_type': 'recent'}, source='Twitter Web App', source_url='https://mobile.twitter.com', in_reply_to_status_id=None, in_reply_to_status_id_str=None, in_reply_to_user_id=None, in_reply_to_user_id_str=None, in_reply_to_screen_name=None, author=User(_api=<tweepy.api.API object at 0x000000A05246BB88>, _json={'id': 29704875, 'id_str': '29704875', 'name': 'Jonny McDade 🇮🇪🇨🇱🇪🇺🍺', 'screen_name': 'JonnyMcDade', 'location': 'Dublin', 'description': 'Arsenal FC activist. Political junkie. Sci-fi geek. Head of Drinks Ireland Beer and Drinks Ireland Cider.', 'url': None, 'entities': {'description': {'urls': []}}, 'protected': False, 'followers_count': 547, 'friends_count': 1843, 'listed_count': 3, 'created_at': 'Wed Apr 08 12:38:29 +0000 2009', 'favourites_count': 17960, 'utc_offset': None, 'time_zone': None, 'geo_enabled': True, 'verified': False, 'statuses_count': 5035, 'lang': None, 'contributors_enabled': False, 'is_translator': False, 'is_translation_enabled': False, 'profile_background_color': '000000', 'profile_background_image_url': 'http://abs.twimg.com/images/themes/theme14/bg.gif', 'profile_background_image_url_https': 'https://abs.twimg.com/images/themes/theme14/bg.gif', 'profile_background_tile': False, 'profile_image_url': 'http://pbs.twimg.com/profile_images/1182402057619300354/0-kjfcRn_normal.jpg', 'profile_image_url_https': 'https://pbs.twimg.com/profile_images/1182402057619300354/0-kjfcRn_normal.jpg', 'profile_banner_url': 'https://pbs.twimg.com/profile_banners/29704875/1542112651', 'profile_link_color': '19CF86', 'profile_sidebar_border_color': '000000', 'profile_sidebar_fill_color': '000000', 'profile_text_color': '000000', 'profile_use_background_image': False, 'has_extended_profile': True, 'default_profile': False, 'default_profile_image': False, 'following': False, 'follow_request_sent': False, 'notifications': False, 'translator_type': 'none'}, id=29704875, id_str='29704875', name='Jonny McDade 🇮🇪🇨🇱🇪🇺🍺', screen_name='JonnyMcDade', location='Dublin', description='Arsenal FC activist. Political junkie. Sci-fi geek. Head of Drinks Ireland Beer and Drinks Ireland Cider.', url=None, entities={'description': {'urls': []}}, protected=False, followers_count=547, friends_count=1843, listed_count=3, created_at=datetime.datetime(2009, 4, 8, 12, 38, 29), favourites_count=17960, utc_offset=None, time_zone=None, geo_enabled=True, verified=False, statuses_count=5035, lang=None, contributors_enabled=False, is_translator=False, is_translation_enabled=False, profile_background_color='000000', profile_background_image_url='http://abs.twimg.com/images/themes/theme14/bg.gif', profile_background_image_url_https='https://abs.twimg.com/images/themes/theme14/bg.gif', profile_background_tile=False, profile_image_url='http://pbs.twimg.com/profile_images/1182402057619300354/0-kjfcRn_normal.jpg', profile_image_url_https='https://pbs.twimg.com/profile_images/1182402057619300354/0-kjfcRn_normal.jpg', profile_banner_url='https://pbs.twimg.com/profile_banners/29704875/1542112651', profile_link_color='19CF86', profile_sidebar_border_color='000000', profile_sidebar_fill_color='000000', profile_text_color='000000', profile_use_background_image=False, has_extended_profile=True, default_profile=False, default_profile_image=False, following=False, follow_request_sent=False, notifications=False, translator_type='none'), user=User(_api=<tweepy.api.API object at 0x000000A05246BB88>, _json={'id': 29704875, 'id_str': '29704875', 'name': 'Jonny McDade 🇮🇪🇨🇱🇪🇺🍺', 'screen_name': 'JonnyMcDade', 'location': 'Dublin', 'description': 'Arsenal FC activist. Political junkie. Sci-fi geek. Head of Drinks Ireland Beer and Drinks Ireland Cider.', 'url': None, 'entities': {'description': {'urls': []}}, 'protected': False, 'followers_count': 547, 'friends_count': 1843, 'listed_count': 3, 'created_at': 'Wed Apr 08 12:38:29 +0000 2009', 'favourites_count': 17960, 'utc_offset': None, 'time_zone': None, 'geo_enabled': True, 'verified': False, 'statuses_count': 5035, 'lang': None, 'contributors_enabled': False, 'is_translator': False, 'is_translation_enabled': False, 'profile_background_color': '000000', 'profile_background_image_url': 'http://abs.twimg.com/images/themes/theme14/bg.gif', 'profile_background_image_url_https': 'https://abs.twimg.com/images/themes/theme14/bg.gif', 'profile_background_tile': False, 'profile_image_url': 'http://pbs.twimg.com/profile_images/1182402057619300354/0-kjfcRn_normal.jpg', 'profile_image_url_https': 'https://pbs.twimg.com/profile_images/1182402057619300354/0-kjfcRn_normal.jpg', 'profile_banner_url': 'https://pbs.twimg.com/profile_banners/29704875/1542112651', 'profile_link_color': '19CF86', 'profile_sidebar_border_color': '000000', 'profile_sidebar_fill_color': '000000', 'profile_text_color': '000000', 'profile_use_background_image': False, 'has_extended_profile': True, 'default_profile': False, 'default_profile_image': False, 'following': False, 'follow_request_sent': False, 'notifications': False, 'translator_type': 'none'}, id=29704875, id_str='29704875', name='Jonny McDade 🇮🇪🇨🇱🇪🇺🍺', screen_name='JonnyMcDade', location='Dublin', description='Arsenal FC activist. Political junkie. Sci-fi geek. Head of Drinks Ireland Beer and Drinks Ireland Cider.', url=None, entities={'description': {'urls': []}}, protected=False, followers_count=547, friends_count=1843, listed_count=3, created_at=datetime.datetime(2009, 4, 8, 12, 38, 29), favourites_count=17960, utc_offset=None, time_zone=None, geo_enabled=True, verified=False, statuses_count=5035, lang=None, contributors_enabled=False, is_translator=False, is_translation_enabled=False, profile_background_color='000000', profile_background_image_url='http://abs.twimg.com/images/themes/theme14/bg.gif', profile_background_image_url_https='https://abs.twimg.com/images/themes/theme14/bg.gif', profile_background_tile=False, profile_image_url='http://pbs.twimg.com/profile_images/1182402057619300354/0-kjfcRn_normal.jpg', profile_image_url_https='https://pbs.twimg.com/profile_images/1182402057619300354/0-kjfcRn_normal.jpg', profile_banner_url='https://pbs.twimg.com/profile_banners/29704875/1542112651', profile_link_color='19CF86', profile_sidebar_border_color='000000', profile_sidebar_fill_color='000000', profile_text_color='000000', profile_use_background_image=False, has_extended_profile=True, default_profile=False, default_profile_image=False, following=False, follow_request_sent=False, notifications=False, translator_type='none'), geo=None, coordinates=None, place=None, contributors=None, is_quote_status=False, retweet_count=0, favorite_count=2, favorited=False, retweeted=False, possibly_sensitive=False, lang='en') \n",
      "\n",
      "....................................\n",
      "\n"
     ]
    }
   ],
   "source": [
    "Tweets=api.search(query,count=10,lang='en',exclude='retweets',tweet_mode='extended')\n",
    "for tweet in Tweets:\n",
    "    print(tweet,'\\n')\n",
    "    print('....................................\\n')"
   ]
  },
  {
   "cell_type": "code",
   "execution_count": 6,
   "metadata": {},
   "outputs": [],
   "source": [
    "df=pd.DataFrame(columns=['Tweets','Users','User_Statuses_Count',\n",
    "                         'User_followers','User_Location','User_Verified',\n",
    "                         'fav_count','rt_count','tweet_date'])"
   ]
  },
  {
   "cell_type": "code",
   "execution_count": 7,
   "metadata": {},
   "outputs": [],
   "source": [
    "def stream(data,file_name):\n",
    "    i=0\n",
    "    for tweet in tweepy.Cursor(api.search,q=data,count=100,lang='en').items():\n",
    "        print(i,end='\\r')\n",
    "        df.loc[i,'Tweets']=tweet.text\n",
    "        df.loc[i,'Users']=tweet.user.name\n",
    "        df.loc[i,'User_Statuses_Count']=tweet.user.statuses_count\n",
    "        df.loc[i,'User_followers']=tweet.user.followers_count\n",
    "        df.loc[i,'User_Location']=tweet.user.location\n",
    "        df.loc[i,'User_Verified']=tweet.user.verified\n",
    "        df.loc[i,'fav_count']=tweet.favorite_count\n",
    "        df.loc[i,'rt_count']=tweet.retweet_count\n",
    "        df.loc[i,'tweet_date']=tweet.created_at\n",
    "        df.to_excel('{}.xlsx'.format(file_name))\n",
    "        i=i+1\n",
    "        if i==1000:\n",
    "            break\n",
    "        else:\n",
    "            pass"
   ]
  },
  {
   "cell_type": "code",
   "execution_count": 8,
   "metadata": {},
   "outputs": [
    {
     "name": "stdout",
     "output_type": "stream",
     "text": [
      "324\r"
     ]
    }
   ],
   "source": [
    "stream(data=['Trump will win US Elections'],file_name='tweets_analysis')"
   ]
  },
  {
   "cell_type": "code",
   "execution_count": 9,
   "metadata": {},
   "outputs": [],
   "source": [
    "import re \n",
    "def clean_tweet(tweet):\n",
    "    return ''.join(re.sub('(@[A-Za-z0-9]+)|([^0-9A-Za-z \\t])|(\\w+:\\/\\/\\S+)',' ',tweet).split())"
   ]
  },
  {
   "cell_type": "code",
   "execution_count": 10,
   "metadata": {},
   "outputs": [],
   "source": [
    "from textblob import TextBlob"
   ]
  },
  {
   "cell_type": "code",
   "execution_count": 11,
   "metadata": {},
   "outputs": [],
   "source": [
    "def analyze_sentiment(tweet):\n",
    "    analysis=TextBlob(tweet)\n",
    "    if analysis.sentiment.polarity >0:\n",
    "        return 'Positive'\n",
    "    elif analysis.sentiment.polarity ==0:\n",
    "        return 'Neutral'\n",
    "    else:\n",
    "        return 'Negative'\n",
    "    "
   ]
  },
  {
   "cell_type": "code",
   "execution_count": 12,
   "metadata": {},
   "outputs": [],
   "source": [
    "df['clean_tweet']=df['Tweets'].apply(lambda x:clean_tweet(x))"
   ]
  },
  {
   "cell_type": "code",
   "execution_count": 13,
   "metadata": {},
   "outputs": [
    {
     "data": {
      "text/html": [
       "<div>\n",
       "<style scoped>\n",
       "    .dataframe tbody tr th:only-of-type {\n",
       "        vertical-align: middle;\n",
       "    }\n",
       "\n",
       "    .dataframe tbody tr th {\n",
       "        vertical-align: top;\n",
       "    }\n",
       "\n",
       "    .dataframe thead th {\n",
       "        text-align: right;\n",
       "    }\n",
       "</style>\n",
       "<table border=\"1\" class=\"dataframe\">\n",
       "  <thead>\n",
       "    <tr style=\"text-align: right;\">\n",
       "      <th></th>\n",
       "      <th>Tweets</th>\n",
       "      <th>Users</th>\n",
       "      <th>User_Statuses_Count</th>\n",
       "      <th>User_followers</th>\n",
       "      <th>User_Location</th>\n",
       "      <th>User_Verified</th>\n",
       "      <th>fav_count</th>\n",
       "      <th>rt_count</th>\n",
       "      <th>tweet_date</th>\n",
       "      <th>clean_tweet</th>\n",
       "    </tr>\n",
       "  </thead>\n",
       "  <tbody>\n",
       "    <tr>\n",
       "      <th>0</th>\n",
       "      <td>RT @CoachGayle: @joncoopertweets Trump will ch...</td>\n",
       "      <td>Faith Shields</td>\n",
       "      <td>44167</td>\n",
       "      <td>794</td>\n",
       "      <td></td>\n",
       "      <td>False</td>\n",
       "      <td>0</td>\n",
       "      <td>3</td>\n",
       "      <td>2020-10-29 13:23:35</td>\n",
       "      <td>RTTrumpwillcheatasmuchashecantowinFacingGapinP...</td>\n",
       "    </tr>\n",
       "    <tr>\n",
       "      <th>1</th>\n",
       "      <td>@awakenedpaige_ Trump will win the Nov 2020 Pr...</td>\n",
       "      <td>Aparna</td>\n",
       "      <td>2811</td>\n",
       "      <td>75</td>\n",
       "      <td></td>\n",
       "      <td>False</td>\n",
       "      <td>0</td>\n",
       "      <td>0</td>\n",
       "      <td>2020-10-29 13:21:47</td>\n",
       "      <td>TrumpwillwintheNov2020PresidentialElectionsLoo...</td>\n",
       "    </tr>\n",
       "    <tr>\n",
       "      <th>2</th>\n",
       "      <td>RT @CoachGayle: @joncoopertweets Trump will ch...</td>\n",
       "      <td>Wendy</td>\n",
       "      <td>32513</td>\n",
       "      <td>92</td>\n",
       "      <td></td>\n",
       "      <td>False</td>\n",
       "      <td>0</td>\n",
       "      <td>3</td>\n",
       "      <td>2020-10-29 13:20:21</td>\n",
       "      <td>RTTrumpwillcheatasmuchashecantowinFacingGapinP...</td>\n",
       "    </tr>\n",
       "    <tr>\n",
       "      <th>3</th>\n",
       "      <td>@BPNave @VerdadGuardian @ryanoistacher @charli...</td>\n",
       "      <td>lebtweet</td>\n",
       "      <td>373</td>\n",
       "      <td>37</td>\n",
       "      <td></td>\n",
       "      <td>False</td>\n",
       "      <td>0</td>\n",
       "      <td>0</td>\n",
       "      <td>2020-10-29 13:15:29</td>\n",
       "      <td>Take5minsgotosimulatororanyot</td>\n",
       "    </tr>\n",
       "    <tr>\n",
       "      <th>4</th>\n",
       "      <td>RT @zizomaticz: Who will win the on going US p...</td>\n",
       "      <td>la revolutionaire 👑</td>\n",
       "      <td>17359</td>\n",
       "      <td>330</td>\n",
       "      <td>Abuja, Nigeria</td>\n",
       "      <td>False</td>\n",
       "      <td>0</td>\n",
       "      <td>1</td>\n",
       "      <td>2020-10-29 13:03:12</td>\n",
       "      <td>RTWhowillwintheongoingUSpresidentialelectionsi...</td>\n",
       "    </tr>\n",
       "  </tbody>\n",
       "</table>\n",
       "</div>"
      ],
      "text/plain": [
       "                                              Tweets                Users  \\\n",
       "0  RT @CoachGayle: @joncoopertweets Trump will ch...        Faith Shields   \n",
       "1  @awakenedpaige_ Trump will win the Nov 2020 Pr...               Aparna   \n",
       "2  RT @CoachGayle: @joncoopertweets Trump will ch...                Wendy   \n",
       "3  @BPNave @VerdadGuardian @ryanoistacher @charli...             lebtweet   \n",
       "4  RT @zizomaticz: Who will win the on going US p...  la revolutionaire 👑   \n",
       "\n",
       "  User_Statuses_Count User_followers   User_Location User_Verified fav_count  \\\n",
       "0               44167            794                         False         0   \n",
       "1                2811             75                         False         0   \n",
       "2               32513             92                         False         0   \n",
       "3                 373             37                         False         0   \n",
       "4               17359            330  Abuja, Nigeria         False         0   \n",
       "\n",
       "  rt_count           tweet_date  \\\n",
       "0        3  2020-10-29 13:23:35   \n",
       "1        0  2020-10-29 13:21:47   \n",
       "2        3  2020-10-29 13:20:21   \n",
       "3        0  2020-10-29 13:15:29   \n",
       "4        1  2020-10-29 13:03:12   \n",
       "\n",
       "                                         clean_tweet  \n",
       "0  RTTrumpwillcheatasmuchashecantowinFacingGapinP...  \n",
       "1  TrumpwillwintheNov2020PresidentialElectionsLoo...  \n",
       "2  RTTrumpwillcheatasmuchashecantowinFacingGapinP...  \n",
       "3                      Take5minsgotosimulatororanyot  \n",
       "4  RTWhowillwintheongoingUSpresidentialelectionsi...  "
      ]
     },
     "execution_count": 13,
     "metadata": {},
     "output_type": "execute_result"
    }
   ],
   "source": [
    "df.head()"
   ]
  },
  {
   "cell_type": "code",
   "execution_count": 14,
   "metadata": {},
   "outputs": [
    {
     "data": {
      "text/html": [
       "<div>\n",
       "<style scoped>\n",
       "    .dataframe tbody tr th:only-of-type {\n",
       "        vertical-align: middle;\n",
       "    }\n",
       "\n",
       "    .dataframe tbody tr th {\n",
       "        vertical-align: top;\n",
       "    }\n",
       "\n",
       "    .dataframe thead th {\n",
       "        text-align: right;\n",
       "    }\n",
       "</style>\n",
       "<table border=\"1\" class=\"dataframe\">\n",
       "  <thead>\n",
       "    <tr style=\"text-align: right;\">\n",
       "      <th></th>\n",
       "      <th>Tweets</th>\n",
       "      <th>Users</th>\n",
       "      <th>User_Statuses_Count</th>\n",
       "      <th>User_followers</th>\n",
       "      <th>User_Location</th>\n",
       "      <th>User_Verified</th>\n",
       "      <th>fav_count</th>\n",
       "      <th>rt_count</th>\n",
       "      <th>tweet_date</th>\n",
       "      <th>clean_tweet</th>\n",
       "      <th>Sentiment</th>\n",
       "    </tr>\n",
       "  </thead>\n",
       "  <tbody>\n",
       "    <tr>\n",
       "      <th>0</th>\n",
       "      <td>RT @CoachGayle: @joncoopertweets Trump will ch...</td>\n",
       "      <td>Faith Shields</td>\n",
       "      <td>44167</td>\n",
       "      <td>794</td>\n",
       "      <td></td>\n",
       "      <td>False</td>\n",
       "      <td>0</td>\n",
       "      <td>3</td>\n",
       "      <td>2020-10-29 13:23:35</td>\n",
       "      <td>RTTrumpwillcheatasmuchashecantowinFacingGapinP...</td>\n",
       "      <td>Neutral</td>\n",
       "    </tr>\n",
       "    <tr>\n",
       "      <th>1</th>\n",
       "      <td>@awakenedpaige_ Trump will win the Nov 2020 Pr...</td>\n",
       "      <td>Aparna</td>\n",
       "      <td>2811</td>\n",
       "      <td>75</td>\n",
       "      <td></td>\n",
       "      <td>False</td>\n",
       "      <td>0</td>\n",
       "      <td>0</td>\n",
       "      <td>2020-10-29 13:21:47</td>\n",
       "      <td>TrumpwillwintheNov2020PresidentialElectionsLoo...</td>\n",
       "      <td>Neutral</td>\n",
       "    </tr>\n",
       "    <tr>\n",
       "      <th>2</th>\n",
       "      <td>RT @CoachGayle: @joncoopertweets Trump will ch...</td>\n",
       "      <td>Wendy</td>\n",
       "      <td>32513</td>\n",
       "      <td>92</td>\n",
       "      <td></td>\n",
       "      <td>False</td>\n",
       "      <td>0</td>\n",
       "      <td>3</td>\n",
       "      <td>2020-10-29 13:20:21</td>\n",
       "      <td>RTTrumpwillcheatasmuchashecantowinFacingGapinP...</td>\n",
       "      <td>Neutral</td>\n",
       "    </tr>\n",
       "    <tr>\n",
       "      <th>3</th>\n",
       "      <td>@BPNave @VerdadGuardian @ryanoistacher @charli...</td>\n",
       "      <td>lebtweet</td>\n",
       "      <td>373</td>\n",
       "      <td>37</td>\n",
       "      <td></td>\n",
       "      <td>False</td>\n",
       "      <td>0</td>\n",
       "      <td>0</td>\n",
       "      <td>2020-10-29 13:15:29</td>\n",
       "      <td>Take5minsgotosimulatororanyot</td>\n",
       "      <td>Neutral</td>\n",
       "    </tr>\n",
       "    <tr>\n",
       "      <th>4</th>\n",
       "      <td>RT @zizomaticz: Who will win the on going US p...</td>\n",
       "      <td>la revolutionaire 👑</td>\n",
       "      <td>17359</td>\n",
       "      <td>330</td>\n",
       "      <td>Abuja, Nigeria</td>\n",
       "      <td>False</td>\n",
       "      <td>0</td>\n",
       "      <td>1</td>\n",
       "      <td>2020-10-29 13:03:12</td>\n",
       "      <td>RTWhowillwintheongoingUSpresidentialelectionsi...</td>\n",
       "      <td>Neutral</td>\n",
       "    </tr>\n",
       "  </tbody>\n",
       "</table>\n",
       "</div>"
      ],
      "text/plain": [
       "                                              Tweets                Users  \\\n",
       "0  RT @CoachGayle: @joncoopertweets Trump will ch...        Faith Shields   \n",
       "1  @awakenedpaige_ Trump will win the Nov 2020 Pr...               Aparna   \n",
       "2  RT @CoachGayle: @joncoopertweets Trump will ch...                Wendy   \n",
       "3  @BPNave @VerdadGuardian @ryanoistacher @charli...             lebtweet   \n",
       "4  RT @zizomaticz: Who will win the on going US p...  la revolutionaire 👑   \n",
       "\n",
       "  User_Statuses_Count User_followers   User_Location User_Verified fav_count  \\\n",
       "0               44167            794                         False         0   \n",
       "1                2811             75                         False         0   \n",
       "2               32513             92                         False         0   \n",
       "3                 373             37                         False         0   \n",
       "4               17359            330  Abuja, Nigeria         False         0   \n",
       "\n",
       "  rt_count           tweet_date  \\\n",
       "0        3  2020-10-29 13:23:35   \n",
       "1        0  2020-10-29 13:21:47   \n",
       "2        3  2020-10-29 13:20:21   \n",
       "3        0  2020-10-29 13:15:29   \n",
       "4        1  2020-10-29 13:03:12   \n",
       "\n",
       "                                         clean_tweet Sentiment  \n",
       "0  RTTrumpwillcheatasmuchashecantowinFacingGapinP...   Neutral  \n",
       "1  TrumpwillwintheNov2020PresidentialElectionsLoo...   Neutral  \n",
       "2  RTTrumpwillcheatasmuchashecantowinFacingGapinP...   Neutral  \n",
       "3                      Take5minsgotosimulatororanyot   Neutral  \n",
       "4  RTWhowillwintheongoingUSpresidentialelectionsi...   Neutral  "
      ]
     },
     "execution_count": 14,
     "metadata": {},
     "output_type": "execute_result"
    }
   ],
   "source": [
    "df['Sentiment']=df['clean_tweet'].apply(lambda x:analyze_sentiment(x))\n",
    "df.head()"
   ]
  },
  {
   "cell_type": "code",
   "execution_count": 15,
   "metadata": {},
   "outputs": [
    {
     "name": "stdout",
     "output_type": "stream",
     "text": [
      "Original tweet:\n",
      " (Aus bipartisan preference for Dems over Republicans has been consistent at recent US elections).\n",
      "\n",
      "Who will win? Au… https://t.co/odx8hJEhag\n",
      "\n",
      "Clean tweet:\n",
      " AusbipartisanpreferenceforDemsoverRepublicanshasbeenconsistentatrecentUSelectionsWhowillwinAu\n",
      "\n",
      "Sentiment:\n",
      " Neutral\n",
      "\n"
     ]
    }
   ],
   "source": [
    "n=67\n",
    "print('Original tweet:\\n',df['Tweets'][n])\n",
    "print()\n",
    "print('Clean tweet:\\n',df['clean_tweet'][n])\n",
    "print()\n",
    "print('Sentiment:\\n',df['Sentiment'][n])\n",
    "print()"
   ]
  },
  {
   "cell_type": "code",
   "execution_count": 16,
   "metadata": {},
   "outputs": [
    {
     "data": {
      "text/plain": [
       "0"
      ]
     },
     "execution_count": 16,
     "metadata": {},
     "output_type": "execute_result"
    }
   ],
   "source": [
    "df[df.Sentiment=='Positive'].shape[0]"
   ]
  },
  {
   "cell_type": "code",
   "execution_count": 17,
   "metadata": {},
   "outputs": [
    {
     "data": {
      "text/plain": [
       "325"
      ]
     },
     "execution_count": 17,
     "metadata": {},
     "output_type": "execute_result"
    }
   ],
   "source": [
    "df[df.Sentiment=='Neutral'].shape[0]"
   ]
  },
  {
   "cell_type": "code",
   "execution_count": 18,
   "metadata": {},
   "outputs": [
    {
     "data": {
      "text/plain": [
       "0"
      ]
     },
     "execution_count": 18,
     "metadata": {},
     "output_type": "execute_result"
    }
   ],
   "source": [
    "df[df.Sentiment=='Negative'].shape[0]"
   ]
  }
 ],
 "metadata": {
  "kernelspec": {
   "display_name": "Python 3",
   "language": "python",
   "name": "python3"
  },
  "language_info": {
   "codemirror_mode": {
    "name": "ipython",
    "version": 3
   },
   "file_extension": ".py",
   "mimetype": "text/x-python",
   "name": "python",
   "nbconvert_exporter": "python",
   "pygments_lexer": "ipython3",
   "version": "3.7.6"
  },
  "toc": {
   "base_numbering": 1,
   "nav_menu": {},
   "number_sections": true,
   "sideBar": true,
   "skip_h1_title": false,
   "title_cell": "Table of Contents",
   "title_sidebar": "Contents",
   "toc_cell": false,
   "toc_position": {},
   "toc_section_display": true,
   "toc_window_display": false
  }
 },
 "nbformat": 4,
 "nbformat_minor": 4
}
