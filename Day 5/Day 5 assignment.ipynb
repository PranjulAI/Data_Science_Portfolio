{
 "cells": [
  {
   "cell_type": "markdown",
   "metadata": {},
   "source": [
    "**Write a Python program to find the first 20 non-even prime natural numbers.**"
   ]
  },
  {
   "cell_type": "code",
   "execution_count": 14,
   "metadata": {},
   "outputs": [
    {
     "name": "stdout",
     "output_type": "stream",
     "text": [
      "First 20 prime numbers are= [3, 5, 7, 11, 13, 17, 19, 23, 29, 31, 37, 41, 43, 47, 53, 59, 61, 67, 71, 73]\n"
     ]
    }
   ],
   "source": [
    "primes = []\n",
    "i=3\n",
    "while len(primes)<20:\n",
    "    arr = [j for j in range(2,i-1) if i%j==0]\n",
    "    if len(arr) == 0:\n",
    "        primes.append(i)\n",
    "    i = i + 1\n",
    "print(\"First 20 prime numbers are=\",primes)    "
   ]
  },
  {
   "cell_type": "markdown",
   "metadata": {},
   "source": [
    "**Write a Python program to implement 15 functions of string.**"
   ]
  },
  {
   "cell_type": "code",
   "execution_count": 47,
   "metadata": {},
   "outputs": [
    {
     "name": "stdout",
     "output_type": "stream",
     "text": [
      "String length is: 20\n",
      "     pen is a pencil\n",
      "     PEN IS A PENCIL\n",
      "     Pen is a Marker\n",
      "Pencil\n",
      "-1\n",
      "Pen is a Pencil\n",
      "s\n",
      "c\n",
      "PENCIL\n",
      "Pencil\n",
      "0000pencil\n",
      "pencil\n",
      "True\n",
      "False\n"
     ]
    }
   ],
   "source": [
    "str1=\"     Pen is a Pencil\";\n",
    "str2=\"pencil\"\n",
    "print(\"String length is:\",len(str1))#Find the length of the string\n",
    "print(str1.lower())# Converts all the alphabets to lower case\n",
    "print(str1.upper())# Converts all the alphabets to upper case\n",
    "print(str1.replace(\"Pencil\",\"Marker\"))# Replaces \"Pencil\" with \"Marker\" in the given string\n",
    "print(str2.capitalize())# Capitalize first letter of the string\n",
    "print(str1.find(str2))# Finds if string str2 occurs in str1\n",
    "print(str1.lstrip())#Remove white spaces from left side of the string\n",
    "print(max(str1))# Finds the maximum character in alphabetical series\n",
    "print(min(str2))#Finds the minimum character in alphabetical series\n",
    "print(str2.swapcase())#Convert complete string to upper case\n",
    "print(str2.title())#Converts first letter of string to upper case\n",
    "print(str2.zfill(10))#Fill 0's to left of the string so that string length becomes equal to input argument i.e. 10 here\n",
    "print(str2.expandtabs())#Returns a string in which tab character are expanded using spaces\n",
    "print(str2.isalnum())# Returns True if no special character else false\n",
    "print(str1.isdigit())#Rturns True if all are digits else False"
   ]
  },
  {
   "cell_type": "markdown",
   "metadata": {},
   "source": [
    "**Write a Python program to check if the given string is a Palindrome or Anagram or None of them. Display the message accordingly to the user.**"
   ]
  },
  {
   "cell_type": "code",
   "execution_count": 67,
   "metadata": {},
   "outputs": [
    {
     "name": "stdout",
     "output_type": "stream",
     "text": [
      "Enter the first string:Kayak\n",
      "Enter the second string:kayak\n",
      "Entered strings are Palindrome\n"
     ]
    }
   ],
   "source": [
    "#This program can only be solved if we take two strings as input from the user\n",
    "str2=[]\n",
    "str3=[]\n",
    "str2=input(\"Enter the first string:\")\n",
    "str3=input(\"Enter the second string:\")\n",
    "str2=str2.upper()\n",
    "str3=str3.upper()\n",
    "\n",
    "if str2==str3[::-1]:\n",
    "    print(\"Entered strings are Palindrome\")\n",
    "    \n",
    "elif (sorted(str2)==sorted(str3)):\n",
    "    if(len(str2)==len(str3)):\n",
    "        print(\"Entered strings are Anagram\")\n",
    "    else:\n",
    "        print(\"Entered strings are not Anagram \")\n",
    "else:\n",
    "    print(\"Strings are neither Palindrome or Anagram\")\n",
    "        "
   ]
  },
  {
   "cell_type": "markdown",
   "metadata": {},
   "source": [
    "**Write a Python's user defined function that removes all the additional characters from the string and converts it finally to lower case using built-in lower(). eg: If the string is \"Dr. Darshan Ingle @AI-ML Trainer\", then the output be \"drdarshaningle aimltrainer\".**"
   ]
  },
  {
   "cell_type": "code",
   "execution_count": 37,
   "metadata": {},
   "outputs": [
    {
     "name": "stdout",
     "output_type": "stream",
     "text": [
      "Enter the string: Dr. Darshan Ingle @AI-ML Trainer\n",
      "drdarshaningleaimltrainer\n"
     ]
    }
   ],
   "source": [
    "def remove_add(a):\n",
    "    import re\n",
    "    for k in a.split(\"\\n\"):\n",
    "        print(re.sub(r\"[^a-zA-Z0-9]\",'',k.lower()))\n",
    "        \n",
    "string=[]\n",
    "string=input(\"Enter the string: \")\n",
    "remove_add(string)"
   ]
  }
 ],
 "metadata": {
  "kernelspec": {
   "display_name": "Python 3",
   "language": "python",
   "name": "python3"
  },
  "language_info": {
   "codemirror_mode": {
    "name": "ipython",
    "version": 3
   },
   "file_extension": ".py",
   "mimetype": "text/x-python",
   "name": "python",
   "nbconvert_exporter": "python",
   "pygments_lexer": "ipython3",
   "version": "3.7.6"
  }
 },
 "nbformat": 4,
 "nbformat_minor": 4
}
