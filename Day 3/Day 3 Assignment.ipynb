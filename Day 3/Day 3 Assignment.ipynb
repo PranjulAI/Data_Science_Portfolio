{
 "cells": [
  {
   "cell_type": "markdown",
   "metadata": {},
   "source": [
    "Write a program to subtract to complex number"
   ]
  },
  {
   "cell_type": "code",
   "execution_count": 10,
   "metadata": {},
   "outputs": [
    {
     "name": "stdout",
     "output_type": "stream",
     "text": [
      "The difference between a =  (4+5j) and b =  (2+3j) is c =  (2+2j)\n"
     ]
    }
   ],
   "source": [
    "a=4+5j;\n",
    "b=2+3j;\n",
    "c=a-b;\n",
    "print(\"The difference between a = \",a,\"and b = \",b,\"is c = \",c)"
   ]
  },
  {
   "cell_type": "markdown",
   "metadata": {},
   "source": [
    "Write a program to find the fourth power of a number "
   ]
  },
  {
   "cell_type": "code",
   "execution_count": 1,
   "metadata": {},
   "outputs": [
    {
     "name": "stdout",
     "output_type": "stream",
     "text": [
      "The fourth power of a =  343 is x =  4.303517070658851\n"
     ]
    }
   ],
   "source": [
    "a=343;\n",
    "x=a**0.25;\n",
    "print(\"The fourth power of a = \",a,\"is x = \",x)"
   ]
  },
  {
   "cell_type": "markdown",
   "metadata": {},
   "source": [
    "Write a program to swap two numbers in Python using a temporary variable"
   ]
  },
  {
   "cell_type": "code",
   "execution_count": 4,
   "metadata": {},
   "outputs": [
    {
     "name": "stdout",
     "output_type": "stream",
     "text": [
      "The swapped values are j =  13 and k =  52\n"
     ]
    }
   ],
   "source": [
    "j=52;\n",
    "k=13;\n",
    "l=0;\n",
    "l=k;\n",
    "k=j;\n",
    "j=l;\n",
    "print(\"The swapped values are j = \",j,\"and k = \",k)\n"
   ]
  },
  {
   "cell_type": "markdown",
   "metadata": {},
   "source": [
    "Write a program to swap two numbers without using a temporary variable"
   ]
  },
  {
   "cell_type": "code",
   "execution_count": 7,
   "metadata": {},
   "outputs": [
    {
     "name": "stdout",
     "output_type": "stream",
     "text": [
      "The swapped values are x =  76  and y =  6\n"
     ]
    }
   ],
   "source": [
    "x=6;\n",
    "y=76;\n",
    "x=x+y;\n",
    "y=x-y;\n",
    "x=x-y;\n",
    "print(\"The swapped values are x = \",x,\" and y = \",y)"
   ]
  },
  {
   "cell_type": "markdown",
   "metadata": {},
   "source": [
    "Write a program to convert farenheit to kelvin and celcius both"
   ]
  },
  {
   "cell_type": "code",
   "execution_count": 12,
   "metadata": {},
   "outputs": [
    {
     "name": "stdout",
     "output_type": "stream",
     "text": [
      "The temperature of 212 F is equivalent to 100.0 Celcius and 373.15 Kelvin\n"
     ]
    }
   ],
   "source": [
    "F=212;\n",
    "C=(F-32)*(5/9);\n",
    "K=C+273.15;\n",
    "print(\"The temperature of\",F,\"F is equivalent to\",C,\"Celcius and\",K,\"Kelvin\")"
   ]
  },
  {
   "cell_type": "markdown",
   "metadata": {},
   "source": [
    "Write a program to demonstrate all the available data type in Python"
   ]
  },
  {
   "cell_type": "code",
   "execution_count": 18,
   "metadata": {},
   "outputs": [
    {
     "name": "stdout",
     "output_type": "stream",
     "text": [
      "Pranjul belongs to <class 'str'> , 8318640868 belongs to <class 'int'> , 167.64 belongs to <class 'float'> and (6+21j) belongs to <class 'complex'>\n"
     ]
    }
   ],
   "source": [
    "Name=\"Pranjul\";\n",
    "Phone_no=8318640868;\n",
    "Height= 167.64;\n",
    "a=6+21j;\n",
    "print(Name,\"belongs to\",type(Name),\",\",Phone_no,\"belongs to\",type(Phone_no),\",\",Height,\"belongs to\",type(Height),\"and\",a,\"belongs to\",type(a))"
   ]
  },
  {
   "cell_type": "markdown",
   "metadata": {},
   "source": [
    "Sequential steps to be followed to create a Github profile and submitting the assignments are given as follows\n",
    "\n",
    "1) Open www.github.com in your browser.\n",
    "\n",
    "2)Being a new user signup using Gmail or any other email but keep in mind that the email ID should be the one registered     with LetsUpgrade.\n",
    "\n",
    "3)Check your email so as to verify the registered email.\n",
    "\n",
    "4)Now sign in to the github account and at the top right click on profile to open a drop down menu.\n",
    "\n",
    "5)Select option Your repositories,a new window will open then click New to create a new repository.\n",
    "\n",
    "6)Put repository name as LetsUpgrade AI-ML and description as Assignments, remember to mark the repository as Public so that it can be accessed by the team members,finally click create repository.\n",
    "\n",
    "7)The browser will be redirected to the newly created repository,click upload an existing file and drag and drop the folder in which the assignment is saved on the system.\n",
    "\n",
    "8)Click on commit changes to upload the folder, now open the uploaded folder in Github environment and copy the link from the browser.\n",
    "\n",
    "9)Fill the google form shared by LetsUpgrade team and paste the link in the required space and click submit to end the submission.\n",
    "\n",
    "**Note- Try to open the pasted link in incognito mode so as to verify that it is accessible publically so as to avoid errors during assignment submissions.**\n"
   ]
  },
  {
   "cell_type": "code",
   "execution_count": null,
   "metadata": {},
   "outputs": [],
   "source": []
  }
 ],
 "metadata": {
  "kernelspec": {
   "display_name": "Python 3",
   "language": "python",
   "name": "python3"
  },
  "language_info": {
   "codemirror_mode": {
    "name": "ipython",
    "version": 3
   },
   "file_extension": ".py",
   "mimetype": "text/x-python",
   "name": "python",
   "nbconvert_exporter": "python",
   "pygments_lexer": "ipython3",
   "version": "3.7.6"
  }
 },
 "nbformat": 4,
 "nbformat_minor": 4
}
