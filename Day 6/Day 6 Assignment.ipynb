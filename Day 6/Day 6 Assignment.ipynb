{
 "cells": [
  {
   "cell_type": "markdown",
   "metadata": {},
   "source": [
    "**Assuming that we have some email addresses in the \"username@companyname.com\" format, please write program to print the company name of a given email address. Both user names and company names are composed of letters only.***\n",
    "\n",
    "**Input:john@google.com**\n",
    "\n",
    "\n",
    "**Output:google**"
   ]
  },
  {
   "cell_type": "code",
   "execution_count": 35,
   "metadata": {},
   "outputs": [
    {
     "name": "stdout",
     "output_type": "stream",
     "text": [
      "Enter the email address:vijaydev@rediffmail.com\n",
      "Company name is : rediffmail\n"
     ]
    }
   ],
   "source": [
    "str1=list(input(\"Enter the email address:\"))\n",
    "comp=\"\"\n",
    "l=str1.index('@')\n",
    "k=str1.index('.')\n",
    "for i in range(l+1,k):\n",
    "    comp+=str1[i]\n",
    "print(\"Company name is :\",comp)"
   ]
  },
  {
   "cell_type": "markdown",
   "metadata": {},
   "source": [
    "**Write a program that accepts a comma-separated sequence of words as input and prints the words in a comma separated sequence after sorting them alphabetically.**\n",
    "\n",
    "**Input: without,hello,bag,world**\n",
    "\n",
    "**Output: bag,hello,without,world**"
   ]
  },
  {
   "cell_type": "code",
   "execution_count": 57,
   "metadata": {},
   "outputs": [
    {
     "name": "stdout",
     "output_type": "stream",
     "text": [
      "Enter comma-seperated sequence of four words: without,hello,bag,world\n",
      "Output:\n",
      "bag,hello,without,world\n"
     ]
    }
   ],
   "source": [
    "str3=input(\"Enter comma-seperated sequence of four words: \")\n",
    "lst=str3.split(\",\")\n",
    "lst.sort()\n",
    "print(\"Output:\")\n",
    "print(*lst,sep=\",\")"
   ]
  },
  {
   "cell_type": "markdown",
   "metadata": {},
   "source": [
    "**Given a list of n-1 numbers ranging from 1 to n, your task is to find the missing number. There are no duplicates.**\n",
    "\n",
    "**Input: 1 2 4 6 3 7 8**\n",
    "\n",
    "**Output: 5**"
   ]
  },
  {
   "cell_type": "code",
   "execution_count": 8,
   "metadata": {},
   "outputs": [
    {
     "name": "stdout",
     "output_type": "stream",
     "text": [
      "Enter the numbers in sequence seperated by space: 1 2 4 6 3 7 8\n",
      "5\n"
     ]
    }
   ],
   "source": [
    "str4=input(\"Enter the numbers in sequence seperated by space: \")\n",
    "lst4=str4.split(\" \")\n",
    "c=int(max(lst4))\n",
    "lst4.sort()\n",
    "test=[]\n",
    "for i in range(1,c+1):\n",
    "    test.append(i)\n",
    "    \n",
    "for i in test:\n",
    "    if int(test[i])!=int(lst4[i]):\n",
    "        print(test[i])\n",
    "        break"
   ]
  },
  {
   "cell_type": "markdown",
   "metadata": {},
   "source": [
    "**With a given list L, write a program to print this list L after removing all duplicate values with original order reserved.**\n",
    "\n",
    "**If the input list is**\n",
    "\n",
    "**12 24 35 24 88 120 155 88 120 155**\n",
    "\n",
    "**Then the output should be**\n",
    "\n",
    "**12 24 35 88 120 155**"
   ]
  },
  {
   "cell_type": "code",
   "execution_count": 61,
   "metadata": {},
   "outputs": [
    {
     "name": "stdout",
     "output_type": "stream",
     "text": [
      "Enter numbers seperated by space: 12 24 35 24 88 120 155 88 120 155\n",
      "Output:\n",
      "12 24 35 88 120 155\n"
     ]
    }
   ],
   "source": [
    "str2=input(\"Enter numbers seperated by space: \")\n",
    "lst2=str2.split(\" \")\n",
    "res = [] \n",
    "for i in lst2: \n",
    "    if i not in res: \n",
    "        res.append(i)\n",
    "print(\"Output:\")\n",
    "print(*res,sep=\" \")"
   ]
  }
 ],
 "metadata": {
  "kernelspec": {
   "display_name": "Python 3",
   "language": "python",
   "name": "python3"
  },
  "language_info": {
   "codemirror_mode": {
    "name": "ipython",
    "version": 3
   },
   "file_extension": ".py",
   "mimetype": "text/x-python",
   "name": "python",
   "nbconvert_exporter": "python",
   "pygments_lexer": "ipython3",
   "version": "3.7.6"
  },
  "toc": {
   "base_numbering": 1,
   "nav_menu": {},
   "number_sections": true,
   "sideBar": true,
   "skip_h1_title": false,
   "title_cell": "Table of Contents",
   "title_sidebar": "Contents",
   "toc_cell": false,
   "toc_position": {},
   "toc_section_display": true,
   "toc_window_display": false
  }
 },
 "nbformat": 4,
 "nbformat_minor": 4
}
