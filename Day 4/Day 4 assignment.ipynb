{
 "cells": [
  {
   "cell_type": "markdown",
   "metadata": {},
   "source": [
    "**Research on whether addition, subtraction, multiplication, division, floor division and modulo operations be performed on complex numbers. Based on your study, implement a Python program to demonstrate these operations.**"
   ]
  },
  {
   "cell_type": "code",
   "execution_count": 22,
   "metadata": {},
   "outputs": [
    {
     "name": "stdout",
     "output_type": "stream",
     "text": [
      "Addition Result --->  (3+8j)\n",
      "Subtraction Result --->  (-1+2j)\n",
      "Multiplication Result --->  (-13+13j)\n",
      "Division Result --->  (1.307692307692308+0.5384615384615384j)\n",
      "Floor Division not Possible.\n",
      "Modulus not Possible.\n"
     ]
    }
   ],
   "source": [
    "a=1+5j;\n",
    "b=2+3j;\n",
    "try:\n",
    "    add=a+b;\n",
    "    print('Addition Result ---> ', add)\n",
    "except TypeError as e:\n",
    "    print('Addition not Possible.')\n",
    "try:\n",
    "    sub=a-b;\n",
    "    print('Subtraction Result ---> ', sub)\n",
    "except TypeError as e:\n",
    "    print('Subtraction not Possible.')\n",
    "try:\n",
    "    multi=a*b;\n",
    "    print('Multiplication Result ---> ', multi)\n",
    "except TypeError as e:\n",
    "    print('Multiplication not Possible.')\n",
    "try:\n",
    "    div=a/b;\n",
    "    print('Division Result ---> ', div)\n",
    "except TypeError as e:\n",
    "    print('Division not Possible.')\n",
    "try:\n",
    "    flr_div=a//b;\n",
    "    print('Floor Division Result ---> ', flr_div)\n",
    "except TypeError as e:\n",
    "    print('Floor Division not Possible.')\n",
    "try:\n",
    "    mod=a%b;\n",
    "    print('Modulus Result ---> ', mod)\n",
    "except TypeError as e:\n",
    "    print('Modulus not Possible.')"
   ]
  },
  {
   "cell_type": "markdown",
   "metadata": {},
   "source": [
    "**Research on range() functions and its parameters. Create a markdown cell and write in your own words (no copy-paste from google please) what you understand about it. Implement a small program of your choice on the same.**"
   ]
  },
  {
   "cell_type": "markdown",
   "metadata": {},
   "source": [
    "range() is a function used to define the value of variable used in loops,it has various syntax based upon the requirements which are discussed as below-\n",
    "\n",
    "1) for i in range(3): <br>body of the loop<br>\n",
    "\n",
    "Here the loop runs 3 times for i=0,1,2 i.e. i takes the value starting from 0 to a value one less than the value provided as input argument to range() i.e. (3-1)=2.\n",
    "   \n",
    "2) for i in range(1,5): <br>body of the loop<br>\n",
    "\n",
    "Here the loop runs 4 times for i=1,2,3,4 i.e. i takes the value starting from 1 which is first input argument to range() to a value one less than the value provided as second input argument to range() i.e. (5-1)=4.\n",
    "\n",
    "3) for i in range(1,6,2): <br>body of the loop<br>\n",
    "\n",
    "Here the loop runs 3 times for i=1,3,5 i.e. i takes the value starting from 1 which is first input argument to range() to a value one less than the value provided as second input argument to range() i.e. (6-1)=5 and everytime taking a step or jump of 2 which is the third argument to range (),one should keep in mind that this jump is constrained by second argument i.e loops stops when value after jump is greater than 5.\n",
    "\n",
    "So, from the above three cases range() can be generalized as\n",
    "\n",
    "range(start,stop,step)"
   ]
  },
  {
   "cell_type": "markdown",
   "metadata": {},
   "source": [
    "**Program to implement case 1**"
   ]
  },
  {
   "cell_type": "code",
   "execution_count": 33,
   "metadata": {},
   "outputs": [
    {
     "name": "stdout",
     "output_type": "stream",
     "text": [
      "The value of i = 0 and the corresponding element in list is: 1\n",
      "The value of i = 1 and the corresponding element in list is: 2\n",
      "The value of i = 2 and the corresponding element in list is: 3\n"
     ]
    }
   ],
   "source": [
    "k=[1,2,3,4,5];\n",
    "for i in range(3):\n",
    "    print(\"The value of i =\",i,\"and the corresponding element in list is:\",k[i])"
   ]
  },
  {
   "cell_type": "markdown",
   "metadata": {},
   "source": [
    "**Program to implement case 2**"
   ]
  },
  {
   "cell_type": "code",
   "execution_count": 32,
   "metadata": {},
   "outputs": [
    {
     "name": "stdout",
     "output_type": "stream",
     "text": [
      "The value of i = 1 and the corresponding element in list is: 2\n",
      "The value of i = 2 and the corresponding element in list is: 3\n",
      "The value of i = 3 and the corresponding element in list is: 4\n"
     ]
    }
   ],
   "source": [
    "k=[1,2,3,4,5];\n",
    "for i in range(1,4):\n",
    "    print(\"The value of i =\",i,\"and the corresponding element in list is:\",k[i])"
   ]
  },
  {
   "cell_type": "markdown",
   "metadata": {},
   "source": [
    "**Program to implement case 3**"
   ]
  },
  {
   "cell_type": "code",
   "execution_count": 31,
   "metadata": {},
   "outputs": [
    {
     "name": "stdout",
     "output_type": "stream",
     "text": [
      "The value of i = 1 and the corresponding element in list is: 2\n",
      "The value of i = 3 and the corresponding element in list is: 4\n"
     ]
    }
   ],
   "source": [
    "k=[1,2,3,4,5];\n",
    "for i in range(1,5,2):\n",
    "    print(\"The value of i =\",i,\"and the corresponding element in list is:\",k[i])"
   ]
  },
  {
   "cell_type": "markdown",
   "metadata": {},
   "source": [
    "**Consider two numbers. Perform their subtraction and if the result of subtraction is greater than 25, print their multiplication result else print their division result.**"
   ]
  },
  {
   "cell_type": "code",
   "execution_count": 30,
   "metadata": {},
   "outputs": [
    {
     "name": "stdout",
     "output_type": "stream",
     "text": [
      "Since x-y= 57 which is greater than 25 so multiplication of the two numbers is: 2848\n"
     ]
    }
   ],
   "source": [
    "x=89;\n",
    "y=32;\n",
    "c=x-y;\n",
    "if c>25:\n",
    "    print(\"Since x-y=\",c,\"which is greater than 25 so multiplication of the two numbers is:\",(x*y))\n",
    "else:\n",
    "      print(\"Since x-y=\",c,\"which is less than 25 so division of the two numbers is:\",(x/y))"
   ]
  },
  {
   "cell_type": "markdown",
   "metadata": {},
   "source": [
    "**Consider a list of 10 elements of integer values. If the number in the list is divisible by 2, print the result as \"square of that number minus 2.**"
   ]
  },
  {
   "cell_type": "code",
   "execution_count": 34,
   "metadata": {},
   "outputs": [
    {
     "name": "stdout",
     "output_type": "stream",
     "text": [
      "The number 2 is even so result is: 2\n",
      "The number 8 is even so result is: 62\n",
      "The number 14 is even so result is: 194\n",
      "The number 24 is even so result is: 574\n",
      "The number 30 is even so result is: 898\n"
     ]
    }
   ],
   "source": [
    "list1=[2,5,8,11,14,17,21,24,27,30];\n",
    "for i in list1:\n",
    "    if i%2==0:\n",
    "        print(\"The number\",i,\"is even so result is:\",((i**2)-2))"
   ]
  },
  {
   "cell_type": "markdown",
   "metadata": {},
   "source": [
    "**Consider a list of 10 elements. Print all the elements in the list which are greater than 7 when that number is divided 2.**"
   ]
  },
  {
   "cell_type": "code",
   "execution_count": 25,
   "metadata": {},
   "outputs": [
    {
     "name": "stdout",
     "output_type": "stream",
     "text": [
      "The numbers from list1 greater than 7 when divided by 2 are: \n",
      "17\n",
      "21\n",
      "24\n",
      "27\n",
      "30\n"
     ]
    }
   ],
   "source": [
    "list1=[2,5,8,11,14,17,21,24,27,30];\n",
    "print(\"The numbers from list1 greater than 7 when divided by 2 are: \")\n",
    "for i in list1:\n",
    "    if ((i/2)>7):\n",
    "        print(i)"
   ]
  }
 ],
 "metadata": {
  "kernelspec": {
   "display_name": "Python 3",
   "language": "python",
   "name": "python3"
  },
  "language_info": {
   "codemirror_mode": {
    "name": "ipython",
    "version": 3
   },
   "file_extension": ".py",
   "mimetype": "text/x-python",
   "name": "python",
   "nbconvert_exporter": "python",
   "pygments_lexer": "ipython3",
   "version": "3.7.6"
  }
 },
 "nbformat": 4,
 "nbformat_minor": 4
}
