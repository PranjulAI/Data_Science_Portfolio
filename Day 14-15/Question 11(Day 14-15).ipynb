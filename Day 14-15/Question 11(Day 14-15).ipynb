{
 "cells": [
  {
   "cell_type": "markdown",
   "metadata": {},
   "source": [
    "# Note\n",
    "<font color=red>\n",
    "\n",
    "**Respected LU Team,**\n",
    "\n",
    "**Please reconsider this question as in previous submission I forgot to remove repeated indices.**\n",
    "\n",
    "**Thank You**"
   ]
  },
  {
   "cell_type": "markdown",
   "metadata": {},
   "source": [
    "**11.Consider a given vector, how to add 1 to each element indexed by a second vector (be careful with repeated indices)?**"
   ]
  },
  {
   "cell_type": "code",
   "execution_count": 5,
   "metadata": {},
   "outputs": [
    {
     "name": "stdout",
     "output_type": "stream",
     "text": [
      "The original vector is:\n",
      "[[ 1.85377581]\n",
      " [-1.36665788]\n",
      " [ 0.0585424 ]\n",
      " [-0.81152421]\n",
      " [-1.5565249 ]\n",
      " [-0.07062215]\n",
      " [ 0.40337431]\n",
      " [-0.81165065]\n",
      " [ 1.71072681]\n",
      " [-1.64002547]]\n",
      "The Index values are:\n",
      "[3 5 7 8]\n",
      "Final vector after adding 1 to corresponding elements at the specified indices:\n",
      "[[ 1.85377581]\n",
      " [-1.36665788]\n",
      " [ 0.0585424 ]\n",
      " [ 0.18847579]\n",
      " [-1.5565249 ]\n",
      " [ 0.92937785]\n",
      " [ 0.40337431]\n",
      " [ 0.18834935]\n",
      " [ 2.71072681]\n",
      " [-1.64002547]]\n"
     ]
    }
   ],
   "source": [
    "import numpy as np \n",
    "Z = np.random.randn(10,1)#creates a random vector of given order\n",
    "print(\"The original vector is:\")\n",
    "print(Z)\n",
    "I=np.random.randint(0,len(Z),4)#generates 4 random integers in a specified range,used as index values\n",
    "J=np.unique(I,axis=0)#removes the duplicate values\n",
    "print(\"The Index values are:\")\n",
    "print(J)\n",
    "print(\"Final vector after adding 1 to corresponding elements at the specified indices:\")\n",
    "np.add.at(Z,I,1)#Adds 1 to the elements in given vector (Z) at the specified index values(I)\n",
    "print(Z)"
   ]
  }
 ],
 "metadata": {
  "kernelspec": {
   "display_name": "Python 3",
   "language": "python",
   "name": "python3"
  },
  "language_info": {
   "codemirror_mode": {
    "name": "ipython",
    "version": 3
   },
   "file_extension": ".py",
   "mimetype": "text/x-python",
   "name": "python",
   "nbconvert_exporter": "python",
   "pygments_lexer": "ipython3",
   "version": "3.7.6"
  },
  "toc": {
   "base_numbering": 1,
   "nav_menu": {},
   "number_sections": true,
   "sideBar": true,
   "skip_h1_title": false,
   "title_cell": "Table of Contents",
   "title_sidebar": "Contents",
   "toc_cell": false,
   "toc_position": {},
   "toc_section_display": true,
   "toc_window_display": false
  }
 },
 "nbformat": 4,
 "nbformat_minor": 4
}
